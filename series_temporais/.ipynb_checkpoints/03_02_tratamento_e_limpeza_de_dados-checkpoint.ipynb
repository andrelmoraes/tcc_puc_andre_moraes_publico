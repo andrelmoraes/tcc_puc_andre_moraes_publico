{
 "cells": [
  {
   "cell_type": "markdown",
   "id": "b341e39e",
   "metadata": {},
   "source": [
    "# **Tratamento e limpeza de dados - Séries Temporais**\n",
    "\n",
    "###  Notebook: `03_02_tratamento_e_limpeza_de_dados`"
   ]
  },
  {
   "cell_type": "markdown",
   "id": "7dbff801",
   "metadata": {},
   "source": [
    "## 1. Importação das bibliotecas essenciais"
   ]
  },
  {
   "cell_type": "code",
   "execution_count": 1,
   "id": "a3468929",
   "metadata": {},
   "outputs": [],
   "source": [
    "import numpy as np\n",
    "import matplotlib.pyplot as plt \n",
    "import pandas as pd\n",
    "import math\n",
    "import requests\n",
    "import json\n",
    "import os"
   ]
  },
  {
   "cell_type": "markdown",
   "id": "3c11e451",
   "metadata": {},
   "source": [
    "\n",
    "## 2. Importação dos datasets"
   ]
  },
  {
   "cell_type": "markdown",
   "id": "b80871f0",
   "metadata": {},
   "source": [
    "---\n",
    "Os datasets gerados no notebook `03_01_coleta_de_dados.ipynb` serão carregados a seguir para tratamento e limpeza dos dados.\n",
    "___\n"
   ]
  },
  {
   "cell_type": "markdown",
   "id": "db3c0cd0",
   "metadata": {},
   "source": [
    "#### 2.1 Importação dos datasets"
   ]
  },
  {
   "cell_type": "code",
   "execution_count": 2,
   "id": "cc490c8e",
   "metadata": {},
   "outputs": [],
   "source": [
    "dataset_cluster0 = pd.read_csv(\"datasets//dataset_cluster0.csv\")\n",
    "dataset_cluster1 = pd.read_csv(\"datasets//dataset_cluster1.csv\")\n",
    "dataset_cluster2 = pd.read_csv(\"datasets//dataset_cluster2.csv\")\n",
    "dataset_cluster3 = pd.read_csv(\"datasets//dataset_cluster3.csv\")\n"
   ]
  },
  {
   "cell_type": "code",
   "execution_count": 3,
   "id": "dc478394",
   "metadata": {},
   "outputs": [
    {
     "data": {
      "text/html": [
       "<div>\n",
       "<style scoped>\n",
       "    .dataframe tbody tr th:only-of-type {\n",
       "        vertical-align: middle;\n",
       "    }\n",
       "\n",
       "    .dataframe tbody tr th {\n",
       "        vertical-align: top;\n",
       "    }\n",
       "\n",
       "    .dataframe thead th {\n",
       "        text-align: right;\n",
       "    }\n",
       "</style>\n",
       "<table border=\"1\" class=\"dataframe\">\n",
       "  <thead>\n",
       "    <tr style=\"text-align: right;\">\n",
       "      <th></th>\n",
       "      <th>mes</th>\n",
       "      <th>indice_pimpf</th>\n",
       "      <th>ipca</th>\n",
       "      <th>taxa_selic</th>\n",
       "      <th>taxa_cambio</th>\n",
       "      <th>ibcbr</th>\n",
       "      <th>tjlp</th>\n",
       "      <th>pib_mensal</th>\n",
       "      <th>preco_brent</th>\n",
       "      <th>desembolso</th>\n",
       "      <th>debitos</th>\n",
       "      <th>arrecadacao</th>\n",
       "    </tr>\n",
       "  </thead>\n",
       "  <tbody>\n",
       "    <tr>\n",
       "      <th>0</th>\n",
       "      <td>200401</td>\n",
       "      <td>104.0</td>\n",
       "      <td>0.76</td>\n",
       "      <td>16.32</td>\n",
       "      <td>136.19</td>\n",
       "      <td>98.59</td>\n",
       "      <td>10.00</td>\n",
       "      <td>1735331.5</td>\n",
       "      <td>31.18</td>\n",
       "      <td>1107.0</td>\n",
       "      <td>7.541299e+07</td>\n",
       "      <td>2.806803e+08</td>\n",
       "    </tr>\n",
       "    <tr>\n",
       "      <th>1</th>\n",
       "      <td>200402</td>\n",
       "      <td>103.1</td>\n",
       "      <td>0.61</td>\n",
       "      <td>16.30</td>\n",
       "      <td>139.84</td>\n",
       "      <td>99.45</td>\n",
       "      <td>10.00</td>\n",
       "      <td>1746819.2</td>\n",
       "      <td>30.87</td>\n",
       "      <td>2559.0</td>\n",
       "      <td>1.791524e+08</td>\n",
       "      <td>2.225660e+08</td>\n",
       "    </tr>\n",
       "    <tr>\n",
       "      <th>2</th>\n",
       "      <td>200403</td>\n",
       "      <td>113.0</td>\n",
       "      <td>0.47</td>\n",
       "      <td>16.19</td>\n",
       "      <td>138.89</td>\n",
       "      <td>111.98</td>\n",
       "      <td>10.00</td>\n",
       "      <td>1765492.2</td>\n",
       "      <td>33.80</td>\n",
       "      <td>4302.0</td>\n",
       "      <td>1.764249e+08</td>\n",
       "      <td>2.365442e+08</td>\n",
       "    </tr>\n",
       "    <tr>\n",
       "      <th>3</th>\n",
       "      <td>200404</td>\n",
       "      <td>107.8</td>\n",
       "      <td>0.37</td>\n",
       "      <td>15.96</td>\n",
       "      <td>138.85</td>\n",
       "      <td>107.36</td>\n",
       "      <td>9.75</td>\n",
       "      <td>1781058.0</td>\n",
       "      <td>33.36</td>\n",
       "      <td>5474.0</td>\n",
       "      <td>3.540798e+08</td>\n",
       "      <td>3.048845e+08</td>\n",
       "    </tr>\n",
       "    <tr>\n",
       "      <th>4</th>\n",
       "      <td>200405</td>\n",
       "      <td>108.9</td>\n",
       "      <td>0.51</td>\n",
       "      <td>15.77</td>\n",
       "      <td>148.25</td>\n",
       "      <td>106.03</td>\n",
       "      <td>9.75</td>\n",
       "      <td>1800951.1</td>\n",
       "      <td>37.92</td>\n",
       "      <td>5976.0</td>\n",
       "      <td>1.836609e+08</td>\n",
       "      <td>2.715790e+08</td>\n",
       "    </tr>\n",
       "    <tr>\n",
       "      <th>5</th>\n",
       "      <td>200406</td>\n",
       "      <td>113.1</td>\n",
       "      <td>0.71</td>\n",
       "      <td>15.80</td>\n",
       "      <td>149.04</td>\n",
       "      <td>107.00</td>\n",
       "      <td>9.75</td>\n",
       "      <td>1828299.9</td>\n",
       "      <td>35.19</td>\n",
       "      <td>7338.0</td>\n",
       "      <td>1.853623e+08</td>\n",
       "      <td>2.814511e+08</td>\n",
       "    </tr>\n",
       "    <tr>\n",
       "      <th>6</th>\n",
       "      <td>200407</td>\n",
       "      <td>110.9</td>\n",
       "      <td>0.91</td>\n",
       "      <td>15.77</td>\n",
       "      <td>143.11</td>\n",
       "      <td>111.47</td>\n",
       "      <td>9.75</td>\n",
       "      <td>1853700.2</td>\n",
       "      <td>38.37</td>\n",
       "      <td>8251.0</td>\n",
       "      <td>3.808139e+08</td>\n",
       "      <td>3.316073e+08</td>\n",
       "    </tr>\n",
       "    <tr>\n",
       "      <th>7</th>\n",
       "      <td>200408</td>\n",
       "      <td>113.2</td>\n",
       "      <td>0.69</td>\n",
       "      <td>15.86</td>\n",
       "      <td>140.62</td>\n",
       "      <td>110.65</td>\n",
       "      <td>9.75</td>\n",
       "      <td>1878059.7</td>\n",
       "      <td>43.03</td>\n",
       "      <td>8887.0</td>\n",
       "      <td>1.936907e+08</td>\n",
       "      <td>2.881093e+08</td>\n",
       "    </tr>\n",
       "    <tr>\n",
       "      <th>8</th>\n",
       "      <td>200409</td>\n",
       "      <td>107.6</td>\n",
       "      <td>0.33</td>\n",
       "      <td>16.09</td>\n",
       "      <td>135.23</td>\n",
       "      <td>109.21</td>\n",
       "      <td>9.75</td>\n",
       "      <td>1894202.4</td>\n",
       "      <td>43.38</td>\n",
       "      <td>9562.0</td>\n",
       "      <td>2.048860e+08</td>\n",
       "      <td>2.988051e+08</td>\n",
       "    </tr>\n",
       "    <tr>\n",
       "      <th>9</th>\n",
       "      <td>200410</td>\n",
       "      <td>103.8</td>\n",
       "      <td>0.44</td>\n",
       "      <td>16.41</td>\n",
       "      <td>133.55</td>\n",
       "      <td>108.89</td>\n",
       "      <td>9.75</td>\n",
       "      <td>1909813.0</td>\n",
       "      <td>49.82</td>\n",
       "      <td>11099.0</td>\n",
       "      <td>4.191208e+08</td>\n",
       "      <td>3.511382e+08</td>\n",
       "    </tr>\n",
       "    <tr>\n",
       "      <th>10</th>\n",
       "      <td>200411</td>\n",
       "      <td>108.6</td>\n",
       "      <td>0.69</td>\n",
       "      <td>16.96</td>\n",
       "      <td>129.60</td>\n",
       "      <td>109.59</td>\n",
       "      <td>9.75</td>\n",
       "      <td>1933090.2</td>\n",
       "      <td>43.05</td>\n",
       "      <td>12842.0</td>\n",
       "      <td>2.053473e+08</td>\n",
       "      <td>3.128433e+08</td>\n",
       "    </tr>\n",
       "    <tr>\n",
       "      <th>11</th>\n",
       "      <td>200412</td>\n",
       "      <td>108.9</td>\n",
       "      <td>0.86</td>\n",
       "      <td>17.50</td>\n",
       "      <td>124.90</td>\n",
       "      <td>107.56</td>\n",
       "      <td>9.75</td>\n",
       "      <td>1957751.2</td>\n",
       "      <td>39.64</td>\n",
       "      <td>15526.0</td>\n",
       "      <td>2.362951e+08</td>\n",
       "      <td>3.388283e+08</td>\n",
       "    </tr>\n",
       "    <tr>\n",
       "      <th>12</th>\n",
       "      <td>200501</td>\n",
       "      <td>105.4</td>\n",
       "      <td>0.58</td>\n",
       "      <td>17.93</td>\n",
       "      <td>123.29</td>\n",
       "      <td>103.52</td>\n",
       "      <td>9.75</td>\n",
       "      <td>1976732.7</td>\n",
       "      <td>44.28</td>\n",
       "      <td>2089.0</td>\n",
       "      <td>4.462173e+08</td>\n",
       "      <td>3.802288e+08</td>\n",
       "    </tr>\n",
       "    <tr>\n",
       "      <th>13</th>\n",
       "      <td>200502</td>\n",
       "      <td>103.3</td>\n",
       "      <td>0.59</td>\n",
       "      <td>18.47</td>\n",
       "      <td>118.92</td>\n",
       "      <td>104.00</td>\n",
       "      <td>9.75</td>\n",
       "      <td>1994573.0</td>\n",
       "      <td>45.56</td>\n",
       "      <td>3051.0</td>\n",
       "      <td>1.573740e+08</td>\n",
       "      <td>2.741647e+08</td>\n",
       "    </tr>\n",
       "    <tr>\n",
       "      <th>14</th>\n",
       "      <td>200503</td>\n",
       "      <td>101.0</td>\n",
       "      <td>0.61</td>\n",
       "      <td>18.97</td>\n",
       "      <td>124.02</td>\n",
       "      <td>115.42</td>\n",
       "      <td>9.75</td>\n",
       "      <td>2012678.1</td>\n",
       "      <td>53.08</td>\n",
       "      <td>4797.0</td>\n",
       "      <td>1.664953e+08</td>\n",
       "      <td>2.921672e+08</td>\n",
       "    </tr>\n",
       "    <tr>\n",
       "      <th>15</th>\n",
       "      <td>200504</td>\n",
       "      <td>105.4</td>\n",
       "      <td>0.87</td>\n",
       "      <td>19.32</td>\n",
       "      <td>118.03</td>\n",
       "      <td>112.35</td>\n",
       "      <td>9.75</td>\n",
       "      <td>2032903.2</td>\n",
       "      <td>51.86</td>\n",
       "      <td>5966.0</td>\n",
       "      <td>3.294132e+08</td>\n",
       "      <td>3.600166e+08</td>\n",
       "    </tr>\n",
       "    <tr>\n",
       "      <th>16</th>\n",
       "      <td>200505</td>\n",
       "      <td>104.9</td>\n",
       "      <td>0.49</td>\n",
       "      <td>19.61</td>\n",
       "      <td>111.59</td>\n",
       "      <td>110.86</td>\n",
       "      <td>9.75</td>\n",
       "      <td>2050901.0</td>\n",
       "      <td>48.67</td>\n",
       "      <td>7363.0</td>\n",
       "      <td>1.910738e+08</td>\n",
       "      <td>3.181914e+08</td>\n",
       "    </tr>\n",
       "    <tr>\n",
       "      <th>17</th>\n",
       "      <td>200506</td>\n",
       "      <td>105.6</td>\n",
       "      <td>-0.02</td>\n",
       "      <td>19.75</td>\n",
       "      <td>109.88</td>\n",
       "      <td>111.50</td>\n",
       "      <td>9.75</td>\n",
       "      <td>2066440.6</td>\n",
       "      <td>54.31</td>\n",
       "      <td>10274.0</td>\n",
       "      <td>1.920392e+08</td>\n",
       "      <td>3.192493e+08</td>\n",
       "    </tr>\n",
       "    <tr>\n",
       "      <th>18</th>\n",
       "      <td>200507</td>\n",
       "      <td>99.9</td>\n",
       "      <td>0.25</td>\n",
       "      <td>19.72</td>\n",
       "      <td>108.29</td>\n",
       "      <td>113.15</td>\n",
       "      <td>9.75</td>\n",
       "      <td>2079143.4</td>\n",
       "      <td>57.58</td>\n",
       "      <td>11523.0</td>\n",
       "      <td>3.456865e+08</td>\n",
       "      <td>3.828965e+08</td>\n",
       "    </tr>\n",
       "    <tr>\n",
       "      <th>19</th>\n",
       "      <td>200508</td>\n",
       "      <td>103.5</td>\n",
       "      <td>0.17</td>\n",
       "      <td>19.75</td>\n",
       "      <td>108.07</td>\n",
       "      <td>115.15</td>\n",
       "      <td>9.75</td>\n",
       "      <td>2097211.1</td>\n",
       "      <td>64.09</td>\n",
       "      <td>13512.0</td>\n",
       "      <td>1.857725e+08</td>\n",
       "      <td>3.346161e+08</td>\n",
       "    </tr>\n",
       "  </tbody>\n",
       "</table>\n",
       "</div>"
      ],
      "text/plain": [
       "       mes  indice_pimpf  ipca  taxa_selic  taxa_cambio   ibcbr   tjlp  \\\n",
       "0   200401         104.0  0.76       16.32       136.19   98.59  10.00   \n",
       "1   200402         103.1  0.61       16.30       139.84   99.45  10.00   \n",
       "2   200403         113.0  0.47       16.19       138.89  111.98  10.00   \n",
       "3   200404         107.8  0.37       15.96       138.85  107.36   9.75   \n",
       "4   200405         108.9  0.51       15.77       148.25  106.03   9.75   \n",
       "5   200406         113.1  0.71       15.80       149.04  107.00   9.75   \n",
       "6   200407         110.9  0.91       15.77       143.11  111.47   9.75   \n",
       "7   200408         113.2  0.69       15.86       140.62  110.65   9.75   \n",
       "8   200409         107.6  0.33       16.09       135.23  109.21   9.75   \n",
       "9   200410         103.8  0.44       16.41       133.55  108.89   9.75   \n",
       "10  200411         108.6  0.69       16.96       129.60  109.59   9.75   \n",
       "11  200412         108.9  0.86       17.50       124.90  107.56   9.75   \n",
       "12  200501         105.4  0.58       17.93       123.29  103.52   9.75   \n",
       "13  200502         103.3  0.59       18.47       118.92  104.00   9.75   \n",
       "14  200503         101.0  0.61       18.97       124.02  115.42   9.75   \n",
       "15  200504         105.4  0.87       19.32       118.03  112.35   9.75   \n",
       "16  200505         104.9  0.49       19.61       111.59  110.86   9.75   \n",
       "17  200506         105.6 -0.02       19.75       109.88  111.50   9.75   \n",
       "18  200507          99.9  0.25       19.72       108.29  113.15   9.75   \n",
       "19  200508         103.5  0.17       19.75       108.07  115.15   9.75   \n",
       "\n",
       "    pib_mensal  preco_brent  desembolso       debitos   arrecadacao  \n",
       "0    1735331.5        31.18      1107.0  7.541299e+07  2.806803e+08  \n",
       "1    1746819.2        30.87      2559.0  1.791524e+08  2.225660e+08  \n",
       "2    1765492.2        33.80      4302.0  1.764249e+08  2.365442e+08  \n",
       "3    1781058.0        33.36      5474.0  3.540798e+08  3.048845e+08  \n",
       "4    1800951.1        37.92      5976.0  1.836609e+08  2.715790e+08  \n",
       "5    1828299.9        35.19      7338.0  1.853623e+08  2.814511e+08  \n",
       "6    1853700.2        38.37      8251.0  3.808139e+08  3.316073e+08  \n",
       "7    1878059.7        43.03      8887.0  1.936907e+08  2.881093e+08  \n",
       "8    1894202.4        43.38      9562.0  2.048860e+08  2.988051e+08  \n",
       "9    1909813.0        49.82     11099.0  4.191208e+08  3.511382e+08  \n",
       "10   1933090.2        43.05     12842.0  2.053473e+08  3.128433e+08  \n",
       "11   1957751.2        39.64     15526.0  2.362951e+08  3.388283e+08  \n",
       "12   1976732.7        44.28      2089.0  4.462173e+08  3.802288e+08  \n",
       "13   1994573.0        45.56      3051.0  1.573740e+08  2.741647e+08  \n",
       "14   2012678.1        53.08      4797.0  1.664953e+08  2.921672e+08  \n",
       "15   2032903.2        51.86      5966.0  3.294132e+08  3.600166e+08  \n",
       "16   2050901.0        48.67      7363.0  1.910738e+08  3.181914e+08  \n",
       "17   2066440.6        54.31     10274.0  1.920392e+08  3.192493e+08  \n",
       "18   2079143.4        57.58     11523.0  3.456865e+08  3.828965e+08  \n",
       "19   2097211.1        64.09     13512.0  1.857725e+08  3.346161e+08  "
      ]
     },
     "execution_count": 3,
     "metadata": {},
     "output_type": "execute_result"
    }
   ],
   "source": [
    "dataset_cluster0.head(20)"
   ]
  },
  {
   "cell_type": "markdown",
   "id": "8abab5f6",
   "metadata": {},
   "source": [
    "## 3. Análises das variáveis\n",
    "   \n",
    "---\n",
    "Esta seção tratará, principalmente, das características relativas ao dataset, uma vez que não há dados faltantes, nem registros a serem excluídos, como resultado das características da extração. \n",
    "\n",
    "Em relação aos dados faltantes, esse problema foi limitado pela extração dos dados da RFB, limitados ao período de 2004 a 2020, o que influenciou a extração dos demais conjuntos de dados.\n",
    "\n",
    "---"
   ]
  },
  {
   "cell_type": "markdown",
   "id": "7edda390",
   "metadata": {},
   "source": [
    "### 3.1 Análise dos valores das colunas\n",
    "\n",
    "---\n",
    "Esta etapa visa garantir que os tipos de dados estão corretos nos datasets.\n",
    "\n",
    "___"
   ]
  },
  {
   "cell_type": "code",
   "execution_count": 4,
   "id": "00f650cd",
   "metadata": {},
   "outputs": [
    {
     "data": {
      "text/plain": [
       "mes               int64\n",
       "indice_pimpf    float64\n",
       "ipca            float64\n",
       "taxa_selic      float64\n",
       "taxa_cambio     float64\n",
       "ibcbr           float64\n",
       "tjlp            float64\n",
       "pib_mensal      float64\n",
       "preco_brent     float64\n",
       "desembolso      float64\n",
       "debitos         float64\n",
       "arrecadacao     float64\n",
       "dtype: object"
      ]
     },
     "execution_count": 4,
     "metadata": {},
     "output_type": "execute_result"
    }
   ],
   "source": [
    "dataset_cluster0.dtypes"
   ]
  },
  {
   "cell_type": "code",
   "execution_count": 5,
   "id": "831eae1b",
   "metadata": {},
   "outputs": [
    {
     "data": {
      "text/plain": [
       "mes               int64\n",
       "indice_pimpf    float64\n",
       "ipca            float64\n",
       "taxa_selic      float64\n",
       "taxa_cambio     float64\n",
       "ibcbr           float64\n",
       "tjlp            float64\n",
       "pib_mensal      float64\n",
       "preco_brent     float64\n",
       "desembolso      float64\n",
       "debitos         float64\n",
       "arrecadacao     float64\n",
       "dtype: object"
      ]
     },
     "execution_count": 5,
     "metadata": {},
     "output_type": "execute_result"
    }
   ],
   "source": [
    "dataset_cluster1.dtypes"
   ]
  },
  {
   "cell_type": "code",
   "execution_count": 6,
   "id": "955bad5f",
   "metadata": {},
   "outputs": [
    {
     "data": {
      "text/plain": [
       "mes               int64\n",
       "indice_pimpf    float64\n",
       "ipca            float64\n",
       "taxa_selic      float64\n",
       "taxa_cambio     float64\n",
       "ibcbr           float64\n",
       "tjlp            float64\n",
       "pib_mensal      float64\n",
       "preco_brent     float64\n",
       "desembolso      float64\n",
       "debitos         float64\n",
       "arrecadacao     float64\n",
       "dtype: object"
      ]
     },
     "execution_count": 6,
     "metadata": {},
     "output_type": "execute_result"
    }
   ],
   "source": [
    "dataset_cluster2.dtypes"
   ]
  },
  {
   "cell_type": "code",
   "execution_count": 7,
   "id": "c1da6fbc",
   "metadata": {},
   "outputs": [
    {
     "data": {
      "text/plain": [
       "mes               int64\n",
       "indice_pimpf    float64\n",
       "ipca            float64\n",
       "taxa_selic      float64\n",
       "taxa_cambio     float64\n",
       "ibcbr           float64\n",
       "tjlp            float64\n",
       "pib_mensal      float64\n",
       "preco_brent     float64\n",
       "desembolso      float64\n",
       "debitos         float64\n",
       "arrecadacao     float64\n",
       "dtype: object"
      ]
     },
     "execution_count": 7,
     "metadata": {},
     "output_type": "execute_result"
    }
   ],
   "source": [
    "dataset_cluster3.dtypes"
   ]
  },
  {
   "cell_type": "markdown",
   "id": "677a3b9a",
   "metadata": {},
   "source": [
    "### 3.2 Transformação dos dados de mês, do formato inteiro para o formato datetime"
   ]
  },
  {
   "cell_type": "code",
   "execution_count": 8,
   "id": "c8ba5c56",
   "metadata": {},
   "outputs": [],
   "source": [
    "from datetime import datetime\n"
   ]
  },
  {
   "cell_type": "code",
   "execution_count": 9,
   "id": "fc589c22",
   "metadata": {},
   "outputs": [],
   "source": [
    "# Tranforma o valor mes para o formato de data nos datasets de cluster\n",
    "# o uso do tamanho do dataset_cluster0 como referência é derivado do fato de que os 4 datasets tem o mesmo tamanho\n",
    "\n",
    "for i in range (0, len(dataset_cluster0)):\n",
    "    dataset_cluster0.at[i,'mes'] = datetime.strptime(str(dataset_cluster0.at[i,'mes']),'%Y%m')\n",
    "    dataset_cluster1.at[i,'mes'] = datetime.strptime(str(dataset_cluster1.at[i,'mes']),'%Y%m')\n",
    "    dataset_cluster2.at[i,'mes'] = datetime.strptime(str(dataset_cluster2.at[i,'mes']),'%Y%m')\n",
    "    dataset_cluster3.at[i,'mes'] = datetime.strptime(str(dataset_cluster3.at[i,'mes']),'%Y%m')"
   ]
  },
  {
   "cell_type": "code",
   "execution_count": 10,
   "id": "5a187b9e",
   "metadata": {},
   "outputs": [
    {
     "data": {
      "text/plain": [
       "mes              object\n",
       "indice_pimpf    float64\n",
       "ipca            float64\n",
       "taxa_selic      float64\n",
       "taxa_cambio     float64\n",
       "ibcbr           float64\n",
       "tjlp            float64\n",
       "pib_mensal      float64\n",
       "preco_brent     float64\n",
       "desembolso      float64\n",
       "debitos         float64\n",
       "arrecadacao     float64\n",
       "dtype: object"
      ]
     },
     "execution_count": 10,
     "metadata": {},
     "output_type": "execute_result"
    }
   ],
   "source": [
    "dataset_cluster0.dtypes"
   ]
  },
  {
   "cell_type": "code",
   "execution_count": 11,
   "id": "c0399927",
   "metadata": {},
   "outputs": [
    {
     "data": {
      "text/plain": [
       "pandas.core.series.Series"
      ]
     },
     "execution_count": 11,
     "metadata": {},
     "output_type": "execute_result"
    }
   ],
   "source": [
    "type(dataset_cluster0.mes)"
   ]
  },
  {
   "cell_type": "code",
   "execution_count": 12,
   "id": "28a76af3",
   "metadata": {},
   "outputs": [
    {
     "data": {
      "text/plain": [
       "pandas.core.frame.DataFrame"
      ]
     },
     "execution_count": 12,
     "metadata": {},
     "output_type": "execute_result"
    }
   ],
   "source": [
    "type(dataset_cluster0)"
   ]
  },
  {
   "cell_type": "code",
   "execution_count": 13,
   "id": "a6797955",
   "metadata": {},
   "outputs": [],
   "source": [
    "# Gravando o dataset com o campo mes como pandas.Series e recuperando para confirmar que \n",
    "# os valores foram transformados adequadamente:\n",
    "\n",
    "# Aqui estou dividindo o dataset em dois blocos. O primeiro será usado para treinar e testar os modelos (jan/2004 a dez/2019) e \n",
    "# o segundo será utilizado para validação (jan a dez/2020)\n",
    "\n",
    "subdiretorio = \"datasets\"\n",
    "\n",
    "## Testando se o subdiretório existe\n",
    "\n",
    "try:\n",
    "    os.mkdir(subdiretorio)\n",
    "except Exception:\n",
    "    pass\n",
    "dataset_cluster0[0:192].to_csv(os.path.join(subdiretorio,'dataset_cluster0_series.csv'), index=False)\n",
    "dataset_cluster0[192:].to_csv(os.path.join(subdiretorio,'dataset_cluster0_validation.csv'), index=False)\n",
    "dataset_cluster1[0:192].to_csv(os.path.join(subdiretorio,'dataset_cluster1_series.csv'), index=False)\n",
    "dataset_cluster1[192:].to_csv(os.path.join(subdiretorio,'dataset_cluster1_validation.csv'), index=False)\n",
    "dataset_cluster2[0:192].to_csv(os.path.join(subdiretorio,'dataset_cluster2_series.csv'), index=False)\n",
    "dataset_cluster2[192:].to_csv(os.path.join(subdiretorio,'dataset_cluster2_validation.csv'), index=False)\n",
    "dataset_cluster3[0:192].to_csv(os.path.join(subdiretorio,'dataset_cluster3_series.csv'), index=False)\n",
    "dataset_cluster3[192:].to_csv(os.path.join(subdiretorio,'dataset_cluster3_validation.csv'), index=False)"
   ]
  },
  {
   "cell_type": "code",
   "execution_count": null,
   "id": "a87dcb95",
   "metadata": {},
   "outputs": [],
   "source": []
  }
 ],
 "metadata": {
  "kernelspec": {
   "display_name": "Python 3",
   "language": "python",
   "name": "python3"
  },
  "language_info": {
   "codemirror_mode": {
    "name": "ipython",
    "version": 3
   },
   "file_extension": ".py",
   "mimetype": "text/x-python",
   "name": "python",
   "nbconvert_exporter": "python",
   "pygments_lexer": "ipython3",
   "version": "3.8.10"
  }
 },
 "nbformat": 4,
 "nbformat_minor": 5
}
