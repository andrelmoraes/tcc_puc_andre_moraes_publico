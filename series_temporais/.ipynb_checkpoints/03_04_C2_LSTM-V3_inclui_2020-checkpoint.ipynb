{
 "cells": [
  {
   "cell_type": "markdown",
   "id": "31796b3e",
   "metadata": {},
   "source": [
    "# Modelo LSTM para predição\n",
    "\n",
    "---\n",
    "\n",
    "\n",
    "___"
   ]
  },
  {
   "cell_type": "code",
   "execution_count": 2,
   "id": "155f8e0b",
   "metadata": {},
   "outputs": [],
   "source": [
    "import numpy as np\n",
    "import matplotlib.pyplot as plt \n",
    "import pandas as pd\n",
    "import math\n",
    "import requests\n",
    "import json\n",
    "import os\n",
    "import statsmodels.api as sm\n",
    "import tensorflow as tf\n",
    "from pandas import concat\n",
    "\n",
    "from sklearn.preprocessing import MinMaxScaler\n",
    "\n",
    "import warnings\n",
    "warnings.filterwarnings(\"ignore\")\n",
    "\n",
    "from statsmodels.tools.sm_exceptions import ConvergenceWarning\n",
    "warnings.simplefilter('ignore', ConvergenceWarning)\n",
    "\n",
    "import math\n",
    "\n",
    "from tensorflow import keras\n",
    "from tensorflow.keras.models import Sequential\n",
    "from tensorflow.keras.layers import Dense\n",
    "from tensorflow.keras.layers import LSTM\n",
    "from tensorflow.keras.layers import Dropout\n",
    "from tensorflow.keras.utils import plot_model\n",
    "from sklearn.preprocessing import MinMaxScaler\n",
    "from sklearn.metrics import mean_squared_error"
   ]
  },
  {
   "cell_type": "markdown",
   "id": "35737da1",
   "metadata": {},
   "source": [
    "## 1. Importando os datasets"
   ]
  },
  {
   "cell_type": "code",
   "execution_count": 3,
   "id": "30f160ef",
   "metadata": {},
   "outputs": [],
   "source": [
    "dataset_cluster2_series = pd.read_csv(\"datasets//dataset_cluster2_series.csv\", header=0, index_col=0)\n",
    "dataset_cluster2_validacao = pd.read_csv(\"datasets//dataset_cluster2_validation.csv\", header=0, index_col=0)\n"
   ]
  },
  {
   "cell_type": "code",
   "execution_count": 4,
   "id": "b06f6de5",
   "metadata": {},
   "outputs": [],
   "source": [
    "dataset_cluster2_series = dataset_cluster2_series.append(dataset_cluster2_validacao)"
   ]
  },
  {
   "cell_type": "code",
   "execution_count": 5,
   "id": "be95dd94",
   "metadata": {},
   "outputs": [
    {
     "data": {
      "text/html": [
       "<div>\n",
       "<style scoped>\n",
       "    .dataframe tbody tr th:only-of-type {\n",
       "        vertical-align: middle;\n",
       "    }\n",
       "\n",
       "    .dataframe tbody tr th {\n",
       "        vertical-align: top;\n",
       "    }\n",
       "\n",
       "    .dataframe thead th {\n",
       "        text-align: right;\n",
       "    }\n",
       "</style>\n",
       "<table border=\"1\" class=\"dataframe\">\n",
       "  <thead>\n",
       "    <tr style=\"text-align: right;\">\n",
       "      <th></th>\n",
       "      <th>indice_pimpf</th>\n",
       "      <th>ipca</th>\n",
       "      <th>taxa_selic</th>\n",
       "      <th>taxa_cambio</th>\n",
       "      <th>ibcbr</th>\n",
       "      <th>arrecadacao</th>\n",
       "    </tr>\n",
       "    <tr>\n",
       "      <th>mes</th>\n",
       "      <th></th>\n",
       "      <th></th>\n",
       "      <th></th>\n",
       "      <th></th>\n",
       "      <th></th>\n",
       "      <th></th>\n",
       "    </tr>\n",
       "  </thead>\n",
       "  <tbody>\n",
       "    <tr>\n",
       "      <th>2020-01-01 00:00:00</th>\n",
       "      <td>101.5</td>\n",
       "      <td>0.21</td>\n",
       "      <td>4.40</td>\n",
       "      <td>116.16</td>\n",
       "      <td>133.60</td>\n",
       "      <td>3.553139e+10</td>\n",
       "    </tr>\n",
       "    <tr>\n",
       "      <th>2020-02-01 00:00:00</th>\n",
       "      <td>99.6</td>\n",
       "      <td>0.25</td>\n",
       "      <td>4.19</td>\n",
       "      <td>121.84</td>\n",
       "      <td>134.63</td>\n",
       "      <td>2.220378e+10</td>\n",
       "    </tr>\n",
       "    <tr>\n",
       "      <th>2020-03-01 00:00:00</th>\n",
       "      <td>95.7</td>\n",
       "      <td>0.07</td>\n",
       "      <td>3.95</td>\n",
       "      <td>136.52</td>\n",
       "      <td>136.72</td>\n",
       "      <td>1.932962e+10</td>\n",
       "    </tr>\n",
       "    <tr>\n",
       "      <th>2020-04-01 00:00:00</th>\n",
       "      <td>68.2</td>\n",
       "      <td>-0.31</td>\n",
       "      <td>3.65</td>\n",
       "      <td>147.97</td>\n",
       "      <td>119.13</td>\n",
       "      <td>2.014531e+10</td>\n",
       "    </tr>\n",
       "    <tr>\n",
       "      <th>2020-05-01 00:00:00</th>\n",
       "      <td>76.2</td>\n",
       "      <td>-0.38</td>\n",
       "      <td>3.01</td>\n",
       "      <td>157.50</td>\n",
       "      <td>119.79</td>\n",
       "      <td>1.314481e+10</td>\n",
       "    </tr>\n",
       "    <tr>\n",
       "      <th>2020-06-01 00:00:00</th>\n",
       "      <td>90.3</td>\n",
       "      <td>0.26</td>\n",
       "      <td>2.58</td>\n",
       "      <td>145.32</td>\n",
       "      <td>126.18</td>\n",
       "      <td>1.234030e+10</td>\n",
       "    </tr>\n",
       "    <tr>\n",
       "      <th>2020-07-01 00:00:00</th>\n",
       "      <td>96.8</td>\n",
       "      <td>0.36</td>\n",
       "      <td>2.15</td>\n",
       "      <td>148.27</td>\n",
       "      <td>135.82</td>\n",
       "      <td>1.983441e+10</td>\n",
       "    </tr>\n",
       "    <tr>\n",
       "      <th>2020-08-01 00:00:00</th>\n",
       "      <td>97.5</td>\n",
       "      <td>0.24</td>\n",
       "      <td>1.94</td>\n",
       "      <td>153.47</td>\n",
       "      <td>135.50</td>\n",
       "      <td>2.206463e+10</td>\n",
       "    </tr>\n",
       "    <tr>\n",
       "      <th>2020-09-01 00:00:00</th>\n",
       "      <td>104.9</td>\n",
       "      <td>0.64</td>\n",
       "      <td>1.90</td>\n",
       "      <td>150.84</td>\n",
       "      <td>137.14</td>\n",
       "      <td>2.362301e+10</td>\n",
       "    </tr>\n",
       "    <tr>\n",
       "      <th>2020-10-01 00:00:00</th>\n",
       "      <td>101.2</td>\n",
       "      <td>0.86</td>\n",
       "      <td>1.90</td>\n",
       "      <td>155.93</td>\n",
       "      <td>139.62</td>\n",
       "      <td>3.264090e+10</td>\n",
       "    </tr>\n",
       "    <tr>\n",
       "      <th>2020-11-01 00:00:00</th>\n",
       "      <td>104.1</td>\n",
       "      <td>0.89</td>\n",
       "      <td>1.90</td>\n",
       "      <td>149.31</td>\n",
       "      <td>138.10</td>\n",
       "      <td>2.663530e+10</td>\n",
       "    </tr>\n",
       "    <tr>\n",
       "      <th>2020-12-01 00:00:00</th>\n",
       "      <td>110.2</td>\n",
       "      <td>1.35</td>\n",
       "      <td>1.90</td>\n",
       "      <td>139.66</td>\n",
       "      <td>139.53</td>\n",
       "      <td>2.910259e+10</td>\n",
       "    </tr>\n",
       "  </tbody>\n",
       "</table>\n",
       "</div>"
      ],
      "text/plain": [
       "                     indice_pimpf  ipca  taxa_selic  taxa_cambio   ibcbr  \\\n",
       "mes                                                                        \n",
       "2020-01-01 00:00:00         101.5  0.21        4.40       116.16  133.60   \n",
       "2020-02-01 00:00:00          99.6  0.25        4.19       121.84  134.63   \n",
       "2020-03-01 00:00:00          95.7  0.07        3.95       136.52  136.72   \n",
       "2020-04-01 00:00:00          68.2 -0.31        3.65       147.97  119.13   \n",
       "2020-05-01 00:00:00          76.2 -0.38        3.01       157.50  119.79   \n",
       "2020-06-01 00:00:00          90.3  0.26        2.58       145.32  126.18   \n",
       "2020-07-01 00:00:00          96.8  0.36        2.15       148.27  135.82   \n",
       "2020-08-01 00:00:00          97.5  0.24        1.94       153.47  135.50   \n",
       "2020-09-01 00:00:00         104.9  0.64        1.90       150.84  137.14   \n",
       "2020-10-01 00:00:00         101.2  0.86        1.90       155.93  139.62   \n",
       "2020-11-01 00:00:00         104.1  0.89        1.90       149.31  138.10   \n",
       "2020-12-01 00:00:00         110.2  1.35        1.90       139.66  139.53   \n",
       "\n",
       "                      arrecadacao  \n",
       "mes                                \n",
       "2020-01-01 00:00:00  3.553139e+10  \n",
       "2020-02-01 00:00:00  2.220378e+10  \n",
       "2020-03-01 00:00:00  1.932962e+10  \n",
       "2020-04-01 00:00:00  2.014531e+10  \n",
       "2020-05-01 00:00:00  1.314481e+10  \n",
       "2020-06-01 00:00:00  1.234030e+10  \n",
       "2020-07-01 00:00:00  1.983441e+10  \n",
       "2020-08-01 00:00:00  2.206463e+10  \n",
       "2020-09-01 00:00:00  2.362301e+10  \n",
       "2020-10-01 00:00:00  3.264090e+10  \n",
       "2020-11-01 00:00:00  2.663530e+10  \n",
       "2020-12-01 00:00:00  2.910259e+10  "
      ]
     },
     "execution_count": 5,
     "metadata": {},
     "output_type": "execute_result"
    }
   ],
   "source": [
    "dataset_cluster2_validacao.head(20)"
   ]
  },
  {
   "cell_type": "code",
   "execution_count": 6,
   "id": "572bb37f",
   "metadata": {},
   "outputs": [
    {
     "data": {
      "text/plain": [
       "204"
      ]
     },
     "execution_count": 6,
     "metadata": {},
     "output_type": "execute_result"
    }
   ],
   "source": [
    "len(dataset_cluster2_series)"
   ]
  },
  {
   "cell_type": "markdown",
   "id": "6640727b",
   "metadata": {},
   "source": [
    "## 2. Preparando o dataset para a rede neural LSTM"
   ]
  },
  {
   "cell_type": "code",
   "execution_count": 7,
   "id": "1a79102e",
   "metadata": {},
   "outputs": [],
   "source": [
    "serie_cluster2 = np.array(dataset_cluster2_series)"
   ]
  },
  {
   "cell_type": "code",
   "execution_count": 8,
   "id": "69c16c77",
   "metadata": {},
   "outputs": [
    {
     "name": "stdout",
     "output_type": "stream",
     "text": [
      "[[1.04000000e+02 7.60000000e-01 1.63200000e+01 1.36190000e+02\n",
      "  9.85900000e+01 6.70972820e+09]\n",
      " [1.03100000e+02 6.10000000e-01 1.63000000e+01 1.39840000e+02\n",
      "  9.94500000e+01 5.84414384e+09]\n",
      " [1.13000000e+02 4.70000000e-01 1.61900000e+01 1.38890000e+02\n",
      "  1.11980000e+02 5.75759405e+09]\n",
      " ...\n",
      " [1.01200000e+02 8.60000000e-01 1.90000000e+00 1.55930000e+02\n",
      "  1.39620000e+02 3.26409023e+10]\n",
      " [1.04100000e+02 8.90000000e-01 1.90000000e+00 1.49310000e+02\n",
      "  1.38100000e+02 2.66353020e+10]\n",
      " [1.10200000e+02 1.35000000e+00 1.90000000e+00 1.39660000e+02\n",
      "  1.39530000e+02 2.91025891e+10]]\n"
     ]
    }
   ],
   "source": [
    "print(serie_cluster2)"
   ]
  },
  {
   "cell_type": "code",
   "execution_count": 9,
   "id": "299f658a",
   "metadata": {},
   "outputs": [],
   "source": [
    "validacao_cluster2 = np.array(dataset_cluster2_validacao)"
   ]
  },
  {
   "cell_type": "code",
   "execution_count": 10,
   "id": "5bf1e28d",
   "metadata": {},
   "outputs": [
    {
     "name": "stdout",
     "output_type": "stream",
     "text": [
      "[[ 1.01500000e+02  2.10000000e-01  4.40000000e+00  1.16160000e+02\n",
      "   1.33600000e+02  3.55313926e+10]\n",
      " [ 9.96000000e+01  2.50000000e-01  4.19000000e+00  1.21840000e+02\n",
      "   1.34630000e+02  2.22037820e+10]\n",
      " [ 9.57000000e+01  7.00000000e-02  3.95000000e+00  1.36520000e+02\n",
      "   1.36720000e+02  1.93296182e+10]\n",
      " [ 6.82000000e+01 -3.10000000e-01  3.65000000e+00  1.47970000e+02\n",
      "   1.19130000e+02  2.01453135e+10]\n",
      " [ 7.62000000e+01 -3.80000000e-01  3.01000000e+00  1.57500000e+02\n",
      "   1.19790000e+02  1.31448091e+10]\n",
      " [ 9.03000000e+01  2.60000000e-01  2.58000000e+00  1.45320000e+02\n",
      "   1.26180000e+02  1.23402953e+10]\n",
      " [ 9.68000000e+01  3.60000000e-01  2.15000000e+00  1.48270000e+02\n",
      "   1.35820000e+02  1.98344139e+10]\n",
      " [ 9.75000000e+01  2.40000000e-01  1.94000000e+00  1.53470000e+02\n",
      "   1.35500000e+02  2.20646283e+10]\n",
      " [ 1.04900000e+02  6.40000000e-01  1.90000000e+00  1.50840000e+02\n",
      "   1.37140000e+02  2.36230069e+10]\n",
      " [ 1.01200000e+02  8.60000000e-01  1.90000000e+00  1.55930000e+02\n",
      "   1.39620000e+02  3.26409023e+10]\n",
      " [ 1.04100000e+02  8.90000000e-01  1.90000000e+00  1.49310000e+02\n",
      "   1.38100000e+02  2.66353020e+10]\n",
      " [ 1.10200000e+02  1.35000000e+00  1.90000000e+00  1.39660000e+02\n",
      "   1.39530000e+02  2.91025891e+10]]\n"
     ]
    }
   ],
   "source": [
    "print(validacao_cluster2)"
   ]
  },
  {
   "cell_type": "code",
   "execution_count": 11,
   "id": "99247a29",
   "metadata": {},
   "outputs": [],
   "source": [
    "np.random.seed(10)"
   ]
  },
  {
   "cell_type": "markdown",
   "id": "bf2adba7",
   "metadata": {},
   "source": [
    "### 2.1 Normalizando a escala do dataset"
   ]
  },
  {
   "cell_type": "code",
   "execution_count": 12,
   "id": "21ca3a56",
   "metadata": {},
   "outputs": [
    {
     "name": "stdout",
     "output_type": "stream",
     "text": [
      "[[0.03197893]\n",
      " [0.00290691]\n",
      " [0.        ]\n",
      " [0.07101945]\n",
      " [0.04697178]\n",
      " [0.04336947]\n",
      " [0.09043814]\n",
      " [0.04513388]\n",
      " [0.06554579]\n",
      " [0.1017538 ]\n",
      " [0.03653988]\n",
      " [0.07271081]\n",
      " [0.11466373]\n",
      " [0.04075126]\n",
      " [0.05368928]\n",
      " [0.12943522]\n",
      " [0.06929605]\n",
      " [0.05786429]\n",
      " [0.10810623]\n",
      " [0.06959359]\n",
      " [0.07557969]\n",
      " [0.16113377]\n",
      " [0.09564595]\n",
      " [0.11005928]\n",
      " [0.12256171]\n",
      " [0.05690476]\n",
      " [0.06269956]\n",
      " [0.17413339]\n",
      " [0.08017074]\n",
      " [0.11777914]\n",
      " [0.16132912]\n",
      " [0.12385077]\n",
      " [0.13878456]\n",
      " [0.20819618]\n",
      " [0.08878526]\n",
      " [0.12195563]\n",
      " [0.15937583]\n",
      " [0.08276886]\n",
      " [0.10593055]\n",
      " [0.19789492]\n",
      " [0.13959732]\n",
      " [0.09693247]\n",
      " [0.17639412]\n",
      " [0.12520147]\n",
      " [0.1864972 ]\n",
      " [0.21860904]\n",
      " [0.16194759]\n",
      " [0.20198246]\n",
      " [0.25738449]\n",
      " [0.14754001]\n",
      " [0.1690323 ]\n",
      " [0.29123743]\n",
      " [0.16822154]\n",
      " [0.19155093]\n",
      " [0.3469625 ]\n",
      " [0.23729904]\n",
      " [0.23999107]\n",
      " [0.4433388 ]\n",
      " [0.20018702]\n",
      " [0.11922986]\n",
      " [0.19881899]\n",
      " [0.03962304]\n",
      " [0.10160055]\n",
      " [0.18309066]\n",
      " [0.10889253]\n",
      " [0.1657051 ]\n",
      " [0.23761197]\n",
      " [0.12426865]\n",
      " [0.16449662]\n",
      " [0.29073203]\n",
      " [0.22792695]\n",
      " [0.21462844]\n",
      " [0.3141784 ]\n",
      " [0.16219808]\n",
      " [0.19554406]\n",
      " [0.34657063]\n",
      " [0.23117478]\n",
      " [0.21951071]\n",
      " [0.29349692]\n",
      " [0.20860432]\n",
      " [0.23204807]\n",
      " [0.32218786]\n",
      " [0.23750397]\n",
      " [0.25930435]\n",
      " [0.4142141 ]\n",
      " [0.19339759]\n",
      " [0.24420079]\n",
      " [0.38326402]\n",
      " [0.24639695]\n",
      " [0.27268718]\n",
      " [0.38685697]\n",
      " [0.27172483]\n",
      " [0.27647149]\n",
      " [0.43184827]\n",
      " [0.27392189]\n",
      " [0.27079017]\n",
      " [0.49917232]\n",
      " [0.21183359]\n",
      " [0.24038459]\n",
      " [0.43776074]\n",
      " [0.26881241]\n",
      " [0.26154137]\n",
      " [0.40732186]\n",
      " [0.25664111]\n",
      " [0.29060459]\n",
      " [0.41359198]\n",
      " [0.29924342]\n",
      " [0.301332  ]\n",
      " [0.54514761]\n",
      " [0.1983706 ]\n",
      " [0.29514453]\n",
      " [0.45919482]\n",
      " [0.323292  ]\n",
      " [0.30478792]\n",
      " [0.44474125]\n",
      " [0.32417603]\n",
      " [0.3244358 ]\n",
      " [0.49389733]\n",
      " [0.34359729]\n",
      " [0.42497365]\n",
      " [0.60389722]\n",
      " [0.30014058]\n",
      " [0.34139861]\n",
      " [0.48690918]\n",
      " [0.31697245]\n",
      " [0.33391403]\n",
      " [0.43718309]\n",
      " [0.32489568]\n",
      " [0.33119745]\n",
      " [0.54787316]\n",
      " [0.4599673 ]\n",
      " [0.37318528]\n",
      " [0.58236285]\n",
      " [0.26238877]\n",
      " [0.34154564]\n",
      " [0.4908937 ]\n",
      " [0.33453976]\n",
      " [0.34470969]\n",
      " [0.51197337]\n",
      " [0.4035922 ]\n",
      " [0.39216783]\n",
      " [0.45350207]\n",
      " [0.34447798]\n",
      " [0.36588261]\n",
      " [0.53294028]\n",
      " [0.26857366]\n",
      " [0.31394386]\n",
      " [0.35150719]\n",
      " [0.31182977]\n",
      " [0.28877275]\n",
      " [0.34990462]\n",
      " [0.28079959]\n",
      " [0.30555365]\n",
      " [0.36851035]\n",
      " [0.34779511]\n",
      " [0.36333828]\n",
      " [0.5373562 ]\n",
      " [0.24991395]\n",
      " [0.31880399]\n",
      " [0.4990555 ]\n",
      " [0.31718779]\n",
      " [0.31876462]\n",
      " [0.41663499]\n",
      " [0.40180043]\n",
      " [0.41294425]\n",
      " [0.58019928]\n",
      " [0.56641402]\n",
      " [0.48455317]\n",
      " [0.77061351]\n",
      " [0.38647218]\n",
      " [0.46623835]\n",
      " [0.6713958 ]\n",
      " [0.45426807]\n",
      " [0.4675181 ]\n",
      " [0.77867743]\n",
      " [0.4954713 ]\n",
      " [0.65138209]\n",
      " [0.88537209]\n",
      " [0.67186137]\n",
      " [0.69534067]\n",
      " [0.98152505]\n",
      " [0.52530715]\n",
      " [0.56118134]\n",
      " [0.83971129]\n",
      " [0.58633696]\n",
      " [0.61863136]\n",
      " [0.92425571]\n",
      " [0.68365039]\n",
      " [0.60083379]\n",
      " [0.82816954]\n",
      " [0.62549876]\n",
      " [0.70544393]\n",
      " [1.        ]\n",
      " [0.55237117]\n",
      " [0.45583784]\n",
      " [0.48323426]\n",
      " [0.24811127]\n",
      " [0.22109041]\n",
      " [0.4727922 ]\n",
      " [0.54769747]\n",
      " [0.60003808]\n",
      " [0.90291832]\n",
      " [0.70121076]\n",
      " [0.78407849]]\n"
     ]
    }
   ],
   "source": [
    "## Criando um scaler para o campo de saída\n",
    "\n",
    "\n",
    "scaler_in = MinMaxScaler(feature_range=(0, 1))\n",
    "scaler_out = MinMaxScaler(feature_range=(0, 1))\n",
    "\n",
    "serie_cluster2 = scaler_in.fit_transform(serie_cluster2)\n",
    "validacao_cluster2 = scaler_out.fit_transform(validacao_cluster2)\n",
    "\n",
    "\n",
    "\n",
    "# Criando um scaler específico para a \n",
    "\n",
    "arrecadacao = np.array(dataset_cluster2_series['arrecadacao'])\n",
    "\n",
    "arrecadacao = arrecadacao.reshape(-1,1)\n",
    "\n",
    "arrecadacao = scaler_out.fit_transform(arrecadacao)\n",
    "\n",
    "print(arrecadacao)"
   ]
  },
  {
   "cell_type": "code",
   "execution_count": 13,
   "id": "6159dbfd",
   "metadata": {},
   "outputs": [
    {
     "name": "stdout",
     "output_type": "stream",
     "text": [
      "[[0.7061144  0.65895954 0.80784314 0.77788201 0.         0.03197893]\n",
      " [0.68836292 0.57225434 0.80672269 0.81592662 0.01606276 0.00290691]\n",
      " [0.88362919 0.49132948 0.80056022 0.8060246  0.25009339 0.        ]\n",
      " ...\n",
      " [0.65088757 0.71676301 0.         0.98363561 0.76634292 0.90291832]\n",
      " [0.70808679 0.73410405 0.         0.91463415 0.73795293 0.70121076]\n",
      " [0.82840237 1.         0.         0.81405045 0.76466194 0.78407849]]\n"
     ]
    }
   ],
   "source": [
    "print(serie_cluster2)"
   ]
  },
  {
   "cell_type": "code",
   "execution_count": 14,
   "id": "c10cd70d",
   "metadata": {},
   "outputs": [
    {
     "name": "stdout",
     "output_type": "stream",
     "text": [
      "[[0.79285714 0.34104046 1.         0.         0.70619815 1.        ]\n",
      " [0.74761905 0.36416185 0.916      0.13739719 0.75646657 0.4253135 ]\n",
      " [0.6547619  0.26011561 0.82       0.49250121 0.85846755 0.30137957]\n",
      " [0.         0.04046243 0.7        0.76947267 0.         0.33655235]\n",
      " [0.19047619 0.         0.444      1.         0.03221083 0.03469063]\n",
      " [0.52619048 0.3699422  0.272      0.7053701  0.34407028 0.        ]\n",
      " [0.68095238 0.42774566 0.1        0.77672956 0.81454368 0.32314636]\n",
      " [0.69761905 0.3583815  0.016      0.90251572 0.79892631 0.41931319]\n",
      " [0.87380952 0.58959538 0.         0.83889695 0.87896535 0.48651047]\n",
      " [0.78571429 0.71676301 0.         0.96202225 1.         0.87536207]\n",
      " [0.8547619  0.73410405 0.         0.80188679 0.92581747 0.61640062]\n",
      " [1.         1.         0.         0.5684567  0.99560761 0.72279002]]\n"
     ]
    }
   ],
   "source": [
    "print(validacao_cluster2)"
   ]
  },
  {
   "cell_type": "markdown",
   "id": "3a37051b",
   "metadata": {},
   "source": [
    "### 2.2 Convertendo o array em um modelo de dados 3D para entrada na rede LSTM \n",
    "\n",
    "---\n",
    "Créditos: https://machinelearningmastery.com/convert-time-series-supervised-learning-problem-python/\n",
    "\n",
    "Para fazer a predição, utilizei os 12 primeiros meses para predizer o seguinte. Com isso, o dataset perde 12 meses, uma vez que os 11 primeiros meses não possuem 12 meses anteriores e o último mês não possui valor conhecido da arrecadação do mês subsequente.\n",
    "\n",
    "___"
   ]
  },
  {
   "cell_type": "code",
   "execution_count": 15,
   "id": "569b3323",
   "metadata": {},
   "outputs": [
    {
     "name": "stdout",
     "output_type": "stream",
     "text": [
      "     var1(t-12)  var2(t-12)  var3(t-12)  var4(t-12)  var5(t-12)  var6(t-12)  \\\n",
      "12     0.706114    0.658960    0.807843    0.777882    0.000000    0.031979   \n",
      "13     0.688363    0.572254    0.806723    0.815927    0.016063    0.002907   \n",
      "14     0.883629    0.491329    0.800560    0.806025    0.250093    0.000000   \n",
      "15     0.781065    0.433526    0.787675    0.805608    0.163803    0.071019   \n",
      "16     0.802761    0.514451    0.777031    0.903586    0.138962    0.046972   \n",
      "..          ...         ...         ...         ...         ...         ...   \n",
      "199    0.585799    0.283237    0.224090    0.548989    0.806500    0.683650   \n",
      "200    0.660750    0.196532    0.213445    0.580467    0.741688    0.600834   \n",
      "201    0.676529    0.277457    0.194958    0.571816    0.824991    0.828170   \n",
      "202    0.615385    0.514451    0.168067    0.585574    0.751774    0.625499   \n",
      "203    0.639053    0.884393    0.150700    0.556389    0.727493    0.705444   \n",
      "\n",
      "     var1(t-11)  var2(t-11)  var3(t-11)  var4(t-11)  ...  var3(t-1)  \\\n",
      "12     0.688363    0.572254    0.806723    0.815927  ...   0.873950   \n",
      "13     0.883629    0.491329    0.800560    0.806025  ...   0.898039   \n",
      "14     0.781065    0.433526    0.787675    0.805608  ...   0.928291   \n",
      "15     0.802761    0.514451    0.777031    0.903586  ...   0.956303   \n",
      "16     0.885602    0.630058    0.778711    0.911820  ...   0.975910   \n",
      "..          ...         ...         ...         ...  ...        ...   \n",
      "199    0.660750    0.196532    0.213445    0.580467  ...   0.014006   \n",
      "200    0.676529    0.277457    0.194958    0.571816  ...   0.002241   \n",
      "201    0.615385    0.514451    0.168067    0.585574  ...   0.000000   \n",
      "202    0.639053    0.884393    0.150700    0.556389  ...   0.000000   \n",
      "203    0.656805    0.341040    0.140056    0.569106  ...   0.000000   \n",
      "\n",
      "     var4(t-1)  var5(t-1)  var6(t-1)   var1(t)   var2(t)   var3(t)   var4(t)  \\\n",
      "12    0.660204   0.167538   0.072711  0.733728  0.554913  0.898039  0.643423   \n",
      "13    0.643423   0.092081   0.114664  0.692308  0.560694  0.928291  0.597874   \n",
      "14    0.597874   0.101046   0.040751  0.646943  0.572254  0.956303  0.651032   \n",
      "15    0.651032   0.314344   0.053689  0.733728  0.722543  0.975910  0.588597   \n",
      "16    0.588597   0.257004   0.129435  0.723866  0.502890  0.992157  0.521472   \n",
      "..         ...        ...        ...       ...       ...       ...       ...   \n",
      "199   0.903794   0.695368   0.472792  0.577909  0.358382  0.002241  0.957995   \n",
      "200   0.957995   0.689391   0.547697  0.723866  0.589595  0.000000  0.930582   \n",
      "201   0.930582   0.720022   0.600038  0.650888  0.716763  0.000000  0.983636   \n",
      "202   0.983636   0.766343   0.902918  0.708087  0.734104  0.000000  0.914634   \n",
      "203   0.914634   0.737953   0.701211  0.828402  1.000000  0.000000  0.814050   \n",
      "\n",
      "      var5(t)   var6(t)  \n",
      "12   0.092081  0.114664  \n",
      "13   0.101046  0.040751  \n",
      "14   0.314344  0.053689  \n",
      "15   0.257004  0.129435  \n",
      "16   0.229174  0.069296  \n",
      "..        ...       ...  \n",
      "199  0.689391  0.547697  \n",
      "200  0.720022  0.600038  \n",
      "201  0.766343  0.902918  \n",
      "202  0.737953  0.701211  \n",
      "203  0.764662  0.784078  \n",
      "\n",
      "[192 rows x 78 columns]\n"
     ]
    }
   ],
   "source": [
    "from pandas import DataFrame\n",
    "from pandas import concat\n",
    " \n",
    "def series_to_supervised(data, n_in=1, n_out=1, dropnan=True):\n",
    "    \"\"\"\n",
    "    Frame a time series as a supervised learning dataset.\n",
    "    Arguments:\n",
    "        data: Sequence of observations as a list or NumPy array.\n",
    "        n_in: Number of lag observations as input (X).\n",
    "        n_out: Number of observations as output (y).\n",
    "        dropnan: Boolean whether or not to drop rows with NaN values.\n",
    "    Returns:\n",
    "        Pandas DataFrame of series framed for supervised learning.\n",
    "    \"\"\"\n",
    "    n_vars = 1 if type(data) is list else data.shape[1]\n",
    "    df = DataFrame(data)\n",
    "    cols, names = list(), list()\n",
    "    # input sequence (t-n, ... t-1)\n",
    "    for i in range(n_in, 0, -1):\n",
    "        cols.append(df.shift(i))\n",
    "        names += [('var%d(t-%d)' % (j+1, i)) for j in range(n_vars)]\n",
    "    # forecast sequence (t, t+1, ... t+n)\n",
    "    for i in range(0, n_out):\n",
    "        cols.append(df.shift(-i))\n",
    "        if i == 0:\n",
    "            names += [('var%d(t)' % (j+1)) for j in range(n_vars)]\n",
    "        else:\n",
    "            names += [('var%d(t+%d)' % (j+1, i)) for j in range(n_vars)]\n",
    "    # put it all together\n",
    "    agg = concat(cols, axis=1)\n",
    "    agg.columns = names\n",
    "    # drop rows with NaN values\n",
    "    if dropnan:\n",
    "        agg.dropna(inplace=True)\n",
    "    return agg\n",
    " \n",
    " \n",
    "raw = DataFrame()\n",
    "raw['ob1'] = [x for x in range(10)]\n",
    "raw['ob2'] = [x for x in range(50, 60)]\n",
    "# values = raw.values\n",
    "values = pd.DataFrame(serie_cluster2).values\n",
    "serie_cluster2_prepared = series_to_supervised(values,12)\n",
    "print(serie_cluster2_prepared)"
   ]
  },
  {
   "cell_type": "markdown",
   "id": "7f060117",
   "metadata": {},
   "source": [
    "### 2.3 Dividindo o dataset em sets de treino e teste"
   ]
  },
  {
   "cell_type": "code",
   "execution_count": 16,
   "id": "cce687d4",
   "metadata": {},
   "outputs": [],
   "source": [
    "# split into train and test sets\n",
    "values = serie_cluster2_prepared.values\n",
    "# Base de treino com 144 meses\n",
    "periodo_treino = 156\n",
    "train = values[:periodo_treino, :]\n",
    "test = values[periodo_treino:, :]\n",
    "\n"
   ]
  },
  {
   "cell_type": "code",
   "execution_count": 17,
   "id": "b17b21bd",
   "metadata": {},
   "outputs": [
    {
     "name": "stdout",
     "output_type": "stream",
     "text": [
      "[[0.7061144  0.65895954 0.80784314 ... 0.64342297 0.09208069 0.11466373]\n",
      " [0.68836292 0.57225434 0.80672269 ... 0.59787367 0.10104595 0.04075126]\n",
      " [0.88362919 0.49132948 0.80056022 ... 0.65103189 0.31434442 0.05368928]\n",
      " ...\n",
      " [0.48717949 0.3699422  0.68067227 ... 0.33156139 0.69760926 0.58019928]\n",
      " [0.5877712  0.32369942 0.67226891 ... 0.35053158 0.68210684 0.56641402]\n",
      " [0.60552268 0.39306358 0.65826331 ... 0.35532625 0.69648861 0.48455317]]\n"
     ]
    }
   ],
   "source": [
    "print(train)"
   ]
  },
  {
   "cell_type": "code",
   "execution_count": 18,
   "id": "1fe1b24b",
   "metadata": {},
   "outputs": [
    {
     "name": "stdout",
     "output_type": "stream",
     "text": [
      "[[0.63510848 0.43930636 0.63137255 ... 0.33406296 0.62457975 0.77061351]\n",
      " [0.60749507 0.41040462 0.61176471 ... 0.3446946  0.58386253 0.38647218]\n",
      " [0.64891519 0.36416185 0.57422969 ... 0.35688972 0.80388495 0.46623835]\n",
      " ...\n",
      " [0.6765286  0.27745665 0.19495798 ... 0.98363561 0.76634292 0.90291832]\n",
      " [0.61538462 0.51445087 0.16806723 ... 0.91463415 0.73795293 0.70121076]\n",
      " [0.63905325 0.88439306 0.15070028 ... 0.81405045 0.76466194 0.78407849]]\n"
     ]
    }
   ],
   "source": [
    "print(test)"
   ]
  },
  {
   "cell_type": "code",
   "execution_count": 19,
   "id": "8c63ff4b",
   "metadata": {},
   "outputs": [
    {
     "name": "stdout",
     "output_type": "stream",
     "text": [
      "(156, 1, 77) (156,) (36, 1, 77) (36,)\n"
     ]
    }
   ],
   "source": [
    "# split into input and outputs\n",
    "train_X, train_y = train[:, :-1], train[:, -1]\n",
    "test_X, test_y = test[:, :-1], test[:, -1]\n",
    "# reshape input to be 3D [samples, timesteps, features]\n",
    "train_X = train_X.reshape((train_X.shape[0], 1, train_X.shape[1]))\n",
    "test_X = test_X.reshape((test_X.shape[0], 1, test_X.shape[1]))\n",
    "print(train_X.shape, train_y.shape, test_X.shape, test_y.shape)"
   ]
  },
  {
   "cell_type": "markdown",
   "id": "09a8c0a4",
   "metadata": {},
   "source": [
    "## 3. Implementando o modelo LSTM\n",
    "\n",
    "---\n",
    "\n",
    "Notas da modelagem da rede neural recorrente:\n",
    "\n",
    "1. O aumento do número de épocas não teve efeito na convergência da função loss.\n",
    "\n",
    "100 épocas:\n",
    "\n",
    "![image.png](modelo_lstm_1_100_epochs.png)\n",
    "\n",
    "500 épocas:\n",
    "\n",
    "![image.png](modelo_lstm_1_500_epochs.png)\n",
    "\n",
    "1000 épocas:\n",
    "\n",
    "![image.png](modelo_lstm_1_1000_epochs.png)\n",
    "\n",
    "\n",
    "\n",
    "1. O aumento do número de batchs (inteiros relativos ao tamanho da amostra de treino: 144) teve efeito na convergência da função loss.\n",
    "\n",
    "\n",
    "Batch 12:\n",
    "\n",
    "\n",
    "![image.png](modelo_lstm_1_batch_12.png)\n",
    "\n",
    "Batch 24:\n",
    "\n",
    "\n",
    "![image.png](modelo_lstm_1_batch_24.png)\n",
    "\n",
    "\n",
    "Batch 36:\n",
    "\n",
    "\n",
    "![image.png](modelo_lstm_1_batch_36.png)\n",
    "\n",
    "\n",
    "\n",
    "Batch 48:\n",
    "\n",
    "\n",
    "![image.png](modelo_lstm_1_batch_48.png)\n",
    "\n",
    "\n",
    "Batch 60:\n",
    "\n",
    "\n",
    "![image.png](modelo_lstm_1_batch_60.png)\n",
    "\n",
    "\n",
    "Batch 72:\n",
    "\n",
    "\n",
    "![image.png](modelo_lstm_1_batch_72.png)\n",
    "\n",
    "\n",
    "Batch 144:\n",
    "\n",
    "\n",
    "![image.png](modelo_lstm_1_batch_144.png)\n",
    "\n"
   ]
  },
  {
   "cell_type": "markdown",
   "id": "bb33df49",
   "metadata": {},
   "source": [
    "Modelo 1: \n",
    "\n",
    "`\n",
    "model = Sequential()\n",
    "model.add(LSTM(50, return_sequences = True, input_shape=(train_X.shape[1], train_X.shape[2])))\n",
    "model.add(Dropout(0.2))\n",
    "model.add(Dense(1))\n",
    "model.compile(loss='mae', optimizer='adam')`\n",
    "\n",
    "`history = model.fit(train_X, train_y, epochs=100, batch_size=72, \n",
    "                    validation_data=(test_X, test_y), verbose=2, shuffle=False)`\n",
    "\n",
    "Resultado: \n",
    "\n",
    "![image.png](modelo_lstm_1.png)\n",
    "\n",
    "Modelo 2:\n",
    "\n",
    "`model = Sequential()\n",
    "model.add(LSTM(50, return_sequences = True, input_shape=(train_X.shape[1], train_X.shape[2])))\n",
    "model.add(Dropout(0.2))\n",
    "model.add(LSTM(50, return_sequences = True,))\n",
    "model.add(Dropout(0.2))\n",
    "model.add(Dense(1))\n",
    "model.compile(loss='mae', optimizer='adam')`\n",
    "\n",
    "`history = model.fit(train_X, train_y, epochs=100, batch_size=72, \n",
    "                    validation_data=(test_X, test_y), verbose=2, shuffle=False)`\n",
    "                    \n",
    "Resultado:\n",
    "\n",
    "![image.png](modelo_lstm_2.png)\n",
    "\n",
    "\n",
    "\n",
    "Modelo 3:\n",
    "\n",
    "\n",
    "\n",
    "`model = Sequential()\n",
    "model.add(LSTM(78, return_sequences = True, input_shape=(train_X.shape[1], train_X.shape[2])))\n",
    "model.add(Dropout(0.2))\n",
    "model.add(LSTM(156, return_sequences = True))\n",
    "model.add(Dropout(0.2))\n",
    "model.add(LSTM(156, return_sequences = True))\n",
    "model.add(Dropout(0.2))\n",
    "model.add(LSTM(156, return_sequences = True,))\n",
    "model.add(Dropout(0.2))\n",
    "model.add(LSTM(156, return_sequences = True,))\n",
    "model.add(Dropout(0.2))\n",
    "model.add(Dense(1))\n",
    "model.compile(loss='mean_squared_error', optimizer='adam')\n",
    "history = model.fit(train_X, train_y, epochs=100, batch_size=36, \n",
    "                    validation_data=(test_X, test_y), verbose=2, shuffle=False)`\n",
    "\n",
    "RMSE: 0.13\n",
    "\n",
    "\n",
    "Modelo 4:\n",
    "\n",
    "\n",
    "`model = Sequential()\n",
    "model.add(LSTM(78, return_sequences = True, input_shape=(train_X.shape[1], train_X.shape[2])))\n",
    "model.add(Dropout(0.2))\n",
    "model.add(LSTM(156, return_sequences = True))\n",
    "model.add(Dropout(0.2))\n",
    "model.add(LSTM(156, return_sequences = True))\n",
    "model.add(Dropout(0.2))\n",
    "model.add(LSTM(156, return_sequences = True,))\n",
    "model.add(Dropout(0.2))\n",
    "model.add(LSTM(156, return_sequences = True,))\n",
    "model.add(Dropout(0.2))\n",
    "model.add(LSTM(156, return_sequences = True,))\n",
    "model.add(Dropout(0.2))\n",
    "model.add(Dense(1))\n",
    "model.compile(loss='mean_squared_error', optimizer='adam')\n",
    "history = model.fit(train_X, train_y, epochs=100, batch_size=36, \n",
    "                    validation_data=(test_X, test_y), verbose=2, shuffle=False)`\n",
    "                    \n",
    "RMSE: 0.103                    \n",
    "\n",
    "\n",
    "Modelo 5: (Sem dropout)\n",
    "\n",
    "\n",
    "`model = Sequential()\n",
    "model.add(LSTM(78, return_sequences = True, input_shape=(train_X.shape[1], train_X.shape[2])))\n",
    "model.add(LSTM(156, return_sequences = True,))\n",
    "model.add(LSTM(156, return_sequences = True,))\n",
    "model.add(LSTM(156, return_sequences = True,))\n",
    "model.add(LSTM(156, return_sequences = True,))\n",
    "model.add(LSTM(156, return_sequences = True,))\n",
    "model.add(Dense(1))\n",
    "model.compile(loss='mean_squared_error', optimizer='adam')\n",
    "history = model.fit(train_X, train_y, epochs=100, batch_size=36, \n",
    "                    validation_data=(test_X, test_y), verbose=2, shuffle=False)`\n",
    "                    \n",
    "RMSE: 0.093    \n",
    "\n",
    "![image.png](melhor_resultado_lstm.png)\n",
    "\n",
    "![image.png](melhor_resultado_treinamento_modelo.png)"
   ]
  },
  {
   "cell_type": "code",
   "execution_count": 20,
   "id": "49e07ae0",
   "metadata": {},
   "outputs": [
    {
     "data": {
      "text/plain": [
       "(36, 1, 77)"
      ]
     },
     "execution_count": 20,
     "metadata": {},
     "output_type": "execute_result"
    }
   ],
   "source": [
    "test_X.shape"
   ]
  },
  {
   "cell_type": "code",
   "execution_count": 21,
   "id": "86fac294",
   "metadata": {},
   "outputs": [
    {
     "name": "stdout",
     "output_type": "stream",
     "text": [
      "Epoch 1/100\n",
      "5/5 - 6s - loss: 0.0873 - val_loss: 0.4017\n",
      "Epoch 2/100\n",
      "5/5 - 0s - loss: 0.0708 - val_loss: 0.3546\n",
      "Epoch 3/100\n",
      "5/5 - 0s - loss: 0.0488 - val_loss: 0.2802\n",
      "Epoch 4/100\n",
      "5/5 - 0s - loss: 0.0198 - val_loss: 0.1488\n",
      "Epoch 5/100\n",
      "5/5 - 0s - loss: 0.0165 - val_loss: 0.1131\n",
      "Epoch 6/100\n",
      "5/5 - 0s - loss: 0.0233 - val_loss: 0.1486\n",
      "Epoch 7/100\n",
      "5/5 - 0s - loss: 0.0194 - val_loss: 0.1700\n",
      "Epoch 8/100\n",
      "5/5 - 0s - loss: 0.0178 - val_loss: 0.1699\n",
      "Epoch 9/100\n",
      "5/5 - 0s - loss: 0.0164 - val_loss: 0.1566\n",
      "Epoch 10/100\n",
      "5/5 - 0s - loss: 0.0154 - val_loss: 0.1399\n",
      "Epoch 11/100\n",
      "5/5 - 0s - loss: 0.0154 - val_loss: 0.1296\n",
      "Epoch 12/100\n",
      "5/5 - 0s - loss: 0.0152 - val_loss: 0.1274\n",
      "Epoch 13/100\n",
      "5/5 - 0s - loss: 0.0137 - val_loss: 0.1234\n",
      "Epoch 14/100\n",
      "5/5 - 0s - loss: 0.0116 - val_loss: 0.1090\n",
      "Epoch 15/100\n",
      "5/5 - 0s - loss: 0.0096 - val_loss: 0.0919\n",
      "Epoch 16/100\n",
      "5/5 - 0s - loss: 0.0086 - val_loss: 0.0858\n",
      "Epoch 17/100\n",
      "5/5 - 0s - loss: 0.0076 - val_loss: 0.0784\n",
      "Epoch 18/100\n",
      "5/5 - 0s - loss: 0.0074 - val_loss: 0.0735\n",
      "Epoch 19/100\n",
      "5/5 - 0s - loss: 0.0069 - val_loss: 0.0742\n",
      "Epoch 20/100\n",
      "5/5 - 0s - loss: 0.0065 - val_loss: 0.0720\n",
      "Epoch 21/100\n",
      "5/5 - 0s - loss: 0.0064 - val_loss: 0.0704\n",
      "Epoch 22/100\n",
      "5/5 - 0s - loss: 0.0062 - val_loss: 0.0677\n",
      "Epoch 23/100\n",
      "5/5 - 0s - loss: 0.0061 - val_loss: 0.0632\n",
      "Epoch 24/100\n",
      "5/5 - 0s - loss: 0.0059 - val_loss: 0.0595\n",
      "Epoch 25/100\n",
      "5/5 - 0s - loss: 0.0057 - val_loss: 0.0556\n",
      "Epoch 26/100\n",
      "5/5 - 0s - loss: 0.0055 - val_loss: 0.0523\n",
      "Epoch 27/100\n",
      "5/5 - 0s - loss: 0.0053 - val_loss: 0.0494\n",
      "Epoch 28/100\n",
      "5/5 - 0s - loss: 0.0051 - val_loss: 0.0465\n",
      "Epoch 29/100\n",
      "5/5 - 0s - loss: 0.0049 - val_loss: 0.0434\n",
      "Epoch 30/100\n",
      "5/5 - 0s - loss: 0.0048 - val_loss: 0.0404\n",
      "Epoch 31/100\n",
      "5/5 - 0s - loss: 0.0045 - val_loss: 0.0369\n",
      "Epoch 32/100\n",
      "5/5 - 0s - loss: 0.0043 - val_loss: 0.0351\n",
      "Epoch 33/100\n",
      "5/5 - 0s - loss: 0.0040 - val_loss: 0.0322\n",
      "Epoch 34/100\n",
      "5/5 - 0s - loss: 0.0039 - val_loss: 0.0328\n",
      "Epoch 35/100\n",
      "5/5 - 0s - loss: 0.0037 - val_loss: 0.0341\n",
      "Epoch 36/100\n",
      "5/5 - 0s - loss: 0.0039 - val_loss: 0.0328\n",
      "Epoch 37/100\n",
      "5/5 - 0s - loss: 0.0040 - val_loss: 0.0448\n",
      "Epoch 38/100\n",
      "5/5 - 0s - loss: 0.0050 - val_loss: 0.0353\n",
      "Epoch 39/100\n",
      "5/5 - 0s - loss: 0.0073 - val_loss: 0.0365\n",
      "Epoch 40/100\n",
      "5/5 - 0s - loss: 0.0096 - val_loss: 0.0486\n",
      "Epoch 41/100\n",
      "5/5 - 0s - loss: 0.0196 - val_loss: 0.1279\n",
      "Epoch 42/100\n",
      "5/5 - 0s - loss: 0.0119 - val_loss: 0.0665\n",
      "Epoch 43/100\n",
      "5/5 - 0s - loss: 0.0062 - val_loss: 0.0308\n",
      "Epoch 44/100\n",
      "5/5 - 0s - loss: 0.0084 - val_loss: 0.0498\n",
      "Epoch 45/100\n",
      "5/5 - 0s - loss: 0.0068 - val_loss: 0.0520\n",
      "Epoch 46/100\n",
      "5/5 - 0s - loss: 0.0038 - val_loss: 0.0299\n",
      "Epoch 47/100\n",
      "5/5 - 0s - loss: 0.0046 - val_loss: 0.0303\n",
      "Epoch 48/100\n",
      "5/5 - 0s - loss: 0.0047 - val_loss: 0.0319\n",
      "Epoch 49/100\n",
      "5/5 - 0s - loss: 0.0038 - val_loss: 0.0304\n",
      "Epoch 50/100\n",
      "5/5 - 0s - loss: 0.0034 - val_loss: 0.0303\n",
      "Epoch 51/100\n",
      "5/5 - 0s - loss: 0.0033 - val_loss: 0.0300\n",
      "Epoch 52/100\n",
      "5/5 - 0s - loss: 0.0032 - val_loss: 0.0313\n",
      "Epoch 53/100\n",
      "5/5 - 0s - loss: 0.0031 - val_loss: 0.0321\n",
      "Epoch 54/100\n",
      "5/5 - 0s - loss: 0.0030 - val_loss: 0.0360\n",
      "Epoch 55/100\n",
      "5/5 - 0s - loss: 0.0029 - val_loss: 0.0368\n",
      "Epoch 56/100\n",
      "5/5 - 0s - loss: 0.0028 - val_loss: 0.0391\n",
      "Epoch 57/100\n",
      "5/5 - 0s - loss: 0.0028 - val_loss: 0.0399\n",
      "Epoch 58/100\n",
      "5/5 - 0s - loss: 0.0027 - val_loss: 0.0414\n",
      "Epoch 59/100\n",
      "5/5 - 0s - loss: 0.0027 - val_loss: 0.0430\n",
      "Epoch 60/100\n",
      "5/5 - 0s - loss: 0.0026 - val_loss: 0.0439\n",
      "Epoch 61/100\n",
      "5/5 - 0s - loss: 0.0026 - val_loss: 0.0460\n",
      "Epoch 62/100\n",
      "5/5 - 0s - loss: 0.0026 - val_loss: 0.0439\n",
      "Epoch 63/100\n",
      "5/5 - 0s - loss: 0.0027 - val_loss: 0.0476\n",
      "Epoch 64/100\n",
      "5/5 - 0s - loss: 0.0029 - val_loss: 0.0390\n",
      "Epoch 65/100\n",
      "5/5 - 0s - loss: 0.0038 - val_loss: 0.0427\n",
      "Epoch 66/100\n",
      "5/5 - 0s - loss: 0.0045 - val_loss: 0.0314\n",
      "Epoch 67/100\n",
      "5/5 - 0s - loss: 0.0088 - val_loss: 0.0334\n",
      "Epoch 68/100\n",
      "5/5 - 0s - loss: 0.0035 - val_loss: 0.0316\n",
      "Epoch 69/100\n",
      "5/5 - 0s - loss: 0.0039 - val_loss: 0.0297\n",
      "Epoch 70/100\n",
      "5/5 - 0s - loss: 0.0028 - val_loss: 0.0307\n",
      "Epoch 71/100\n",
      "5/5 - 0s - loss: 0.0030 - val_loss: 0.0316\n",
      "Epoch 72/100\n",
      "5/5 - 0s - loss: 0.0032 - val_loss: 0.0335\n",
      "Epoch 73/100\n",
      "5/5 - 0s - loss: 0.0035 - val_loss: 0.0316\n",
      "Epoch 74/100\n",
      "5/5 - 0s - loss: 0.0043 - val_loss: 0.0289\n",
      "Epoch 75/100\n",
      "5/5 - 0s - loss: 0.0032 - val_loss: 0.0309\n",
      "Epoch 76/100\n",
      "5/5 - 0s - loss: 0.0035 - val_loss: 0.0285\n",
      "Epoch 77/100\n",
      "5/5 - 0s - loss: 0.0026 - val_loss: 0.0335\n",
      "Epoch 78/100\n",
      "5/5 - 0s - loss: 0.0025 - val_loss: 0.0321\n",
      "Epoch 79/100\n",
      "5/5 - 0s - loss: 0.0024 - val_loss: 0.0364\n",
      "Epoch 80/100\n",
      "5/5 - 0s - loss: 0.0023 - val_loss: 0.0357\n",
      "Epoch 81/100\n",
      "5/5 - 0s - loss: 0.0023 - val_loss: 0.0360\n",
      "Epoch 82/100\n",
      "5/5 - 0s - loss: 0.0023 - val_loss: 0.0362\n",
      "Epoch 83/100\n",
      "5/5 - 0s - loss: 0.0023 - val_loss: 0.0370\n",
      "Epoch 84/100\n",
      "5/5 - 0s - loss: 0.0022 - val_loss: 0.0387\n",
      "Epoch 85/100\n",
      "5/5 - 0s - loss: 0.0022 - val_loss: 0.0384\n",
      "Epoch 86/100\n",
      "5/5 - 0s - loss: 0.0023 - val_loss: 0.0403\n",
      "Epoch 87/100\n",
      "5/5 - 0s - loss: 0.0024 - val_loss: 0.0361\n",
      "Epoch 88/100\n",
      "5/5 - 0s - loss: 0.0026 - val_loss: 0.0393\n",
      "Epoch 89/100\n",
      "5/5 - 0s - loss: 0.0030 - val_loss: 0.0312\n",
      "Epoch 90/100\n",
      "5/5 - 0s - loss: 0.0048 - val_loss: 0.0305\n",
      "Epoch 91/100\n",
      "5/5 - 0s - loss: 0.0044 - val_loss: 0.0277\n",
      "Epoch 92/100\n",
      "5/5 - 0s - loss: 0.0081 - val_loss: 0.0359\n",
      "Epoch 93/100\n",
      "5/5 - 0s - loss: 0.0028 - val_loss: 0.0284\n",
      "Epoch 94/100\n",
      "5/5 - 0s - loss: 0.0033 - val_loss: 0.0275\n",
      "Epoch 95/100\n",
      "5/5 - 0s - loss: 0.0027 - val_loss: 0.0280\n",
      "Epoch 96/100\n",
      "5/5 - 0s - loss: 0.0030 - val_loss: 0.0289\n",
      "Epoch 97/100\n",
      "5/5 - 0s - loss: 0.0034 - val_loss: 0.0277\n",
      "Epoch 98/100\n",
      "5/5 - 0s - loss: 0.0030 - val_loss: 0.0282\n",
      "Epoch 99/100\n",
      "5/5 - 0s - loss: 0.0034 - val_loss: 0.0271\n",
      "Epoch 100/100\n",
      "5/5 - 0s - loss: 0.0025 - val_loss: 0.0296\n"
     ]
    }
   ],
   "source": [
    "np.random.seed(12)\n",
    "\n",
    "# design network\n",
    "model = Sequential()\n",
    "model.add(LSTM(78, return_sequences = True, input_shape=(train_X.shape[1], train_X.shape[2])))\n",
    "# O método Dropout é utilizado para reduzir o overfitting\n",
    "# model.add(Dropout(0.2))\n",
    "\n",
    "model.add(LSTM(156, return_sequences = True))\n",
    "# model.add(Dropout(0.2))\n",
    "\n",
    "model.add(LSTM(156, return_sequences = True))\n",
    "# model.add(Dropout(0.2))\n",
    "\n",
    "model.add(LSTM(156, return_sequences = True))\n",
    "# model.add(Dropout(0.2))\n",
    "\n",
    "model.add(LSTM(156, return_sequences = True))\n",
    "# model.add(Dropout(0.2))\n",
    "\n",
    "model.add(LSTM(156, return_sequences = True))\n",
    "# model.add(Dropout(0.2))\n",
    "\n",
    "model.add(Dense(1))\n",
    "\n",
    "model.compile(loss='mean_squared_error', optimizer='Adam')\n",
    "# fit network\n",
    "history = model.fit(train_X, train_y, epochs=100, batch_size=32, \n",
    "                    validation_data=(test_X, test_y), verbose=2, shuffle=False)\n",
    "\n"
   ]
  },
  {
   "cell_type": "code",
   "execution_count": 22,
   "id": "ec2a77bb",
   "metadata": {},
   "outputs": [
    {
     "data": {
      "text/plain": [
       "<matplotlib.legend.Legend at 0x7f2b08352a90>"
      ]
     },
     "execution_count": 22,
     "metadata": {},
     "output_type": "execute_result"
    },
    {
     "data": {
      "image/png": "[encoded data removed]",
      "text/plain": [
       "<Figure size 432x288 with 1 Axes>"
      ]
     },
     "metadata": {
      "needs_background": "light"
     },
     "output_type": "display_data"
    }
   ],
   "source": [
    "# plot history\n",
    "plt.plot(history.history['loss'], label='train')\n",
    "plt.plot(history.history['val_loss'], label='test')\n",
    "plt.legend()\n"
   ]
  },
  {
   "cell_type": "code",
   "execution_count": 23,
   "id": "b5af4ba9",
   "metadata": {},
   "outputs": [
    {
     "name": "stdout",
     "output_type": "stream",
     "text": [
      "Test RMSE: 0.172\n"
     ]
    }
   ],
   "source": [
    "# make a prediction\n",
    "\n",
    "\n",
    "yhat = model.predict(test_X)\n",
    "test_X_final = test_X.reshape(test_X.shape[0], test_X.shape[2])\n",
    "# invert scaling for forecast\n",
    "\n",
    "\n",
    "\n",
    "inv_yhat = np.concatenate((np.squeeze(yhat, axis=(2,)), test_X_final[:, :-1]), axis=1)\n",
    "\n",
    "# inv_yhat = scaler_in.inverse_transform(inv_yhat)\n",
    "inv_yhat = inv_yhat[:,0]\n",
    "\n",
    "# invert scaling for actual\n",
    "\n",
    "test_y_final = test_y.reshape((len(test_y), 1))\n",
    "inv_y = np.concatenate((test_y_final, test_X_final[:, 1:]), axis=1)\n",
    "# inv_y = scaler_in.inverse_transform(inv_y)\n",
    "inv_y = inv_y[:,0]\n",
    "# calculate RMSE\n",
    "rmse = math.sqrt(mean_squared_error(inv_y, inv_yhat))\n",
    "\n",
    "mape = np.mean(np.abs((inv_y - inv_yhat) / test_y)) * 100\n",
    "print('Test RMSE: %.3f' % rmse)\n"
   ]
  },
  {
   "cell_type": "code",
   "execution_count": 24,
   "id": "099b9506",
   "metadata": {},
   "outputs": [
    {
     "data": {
      "image/png": "[encoded data removed]",
      "text/plain": [
       "<Figure size 432x288 with 1 Axes>"
      ]
     },
     "metadata": {
      "needs_background": "light"
     },
     "output_type": "display_data"
    }
   ],
   "source": [
    "test_y_inv = scaler_out.inverse_transform(test_y_final)\n",
    "yhat_final_inv = scaler_out.inverse_transform(np.squeeze(yhat, axis=(2,)))\n",
    "\n",
    "# Plota o valor observado vs previsto. \n",
    "plt.plot(test_y_inv, label='Esperado')\n",
    "plt.plot(yhat_final_inv, label='Previsto LSTM')\n",
    "plt.legend()\n",
    "plt.title('Teste LSTM - MAPE: %.4f' % mape)\n",
    "plt.xticks(ticks=(0,5,11,17,23,29,35), labels=['2018-01', '2018-06', '2018-12', '2019-06', '2019-12',\n",
    "                                              '2020-06', '2020-12'])\n",
    "plt.grid(True,axis='y')\n",
    "plt.show()"
   ]
  },
  {
   "cell_type": "code",
   "execution_count": 154,
   "id": "82b4cc8b",
   "metadata": {},
   "outputs": [
    {
     "data": {
      "text/plain": [
       "24"
      ]
     },
     "execution_count": 154,
     "metadata": {},
     "output_type": "execute_result"
    }
   ],
   "source": [
    "len(yhat)"
   ]
  },
  {
   "cell_type": "code",
   "execution_count": 107,
   "id": "bac130e1",
   "metadata": {},
   "outputs": [
    {
     "data": {
      "image/png": "[encoded data removed]",
      "text/plain": [
       "<IPython.core.display.Image object>"
      ]
     },
     "execution_count": 107,
     "metadata": {},
     "output_type": "execute_result"
    }
   ],
   "source": [
    "\n",
    "plot_model(model, show_shapes=True)"
   ]
  },
  {
   "cell_type": "code",
   "execution_count": 108,
   "id": "c3a352ec",
   "metadata": {},
   "outputs": [
    {
     "name": "stdout",
     "output_type": "stream",
     "text": [
      "Model: \"sequential_6\"\n",
      "_________________________________________________________________\n",
      "Layer (type)                 Output Shape              Param #   \n",
      "=================================================================\n",
      "lstm_36 (LSTM)               (None, 1, 78)             48672     \n",
      "_________________________________________________________________\n",
      "lstm_37 (LSTM)               (None, 1, 156)            146640    \n",
      "_________________________________________________________________\n",
      "lstm_38 (LSTM)               (None, 1, 156)            195312    \n",
      "_________________________________________________________________\n",
      "lstm_39 (LSTM)               (None, 1, 156)            195312    \n",
      "_________________________________________________________________\n",
      "lstm_40 (LSTM)               (None, 1, 156)            195312    \n",
      "_________________________________________________________________\n",
      "lstm_41 (LSTM)               (None, 1, 156)            195312    \n",
      "_________________________________________________________________\n",
      "dense_6 (Dense)              (None, 1, 1)              157       \n",
      "=================================================================\n",
      "Total params: 976,717\n",
      "Trainable params: 976,717\n",
      "Non-trainable params: 0\n",
      "_________________________________________________________________\n"
     ]
    }
   ],
   "source": [
    "model.summary()"
   ]
  },
  {
   "cell_type": "markdown",
   "id": "dcbef018",
   "metadata": {},
   "source": [
    "## 2.3 Validando a predição"
   ]
  },
  {
   "cell_type": "code",
   "execution_count": 132,
   "id": "c3e2a650",
   "metadata": {},
   "outputs": [
    {
     "name": "stdout",
     "output_type": "stream",
     "text": [
      "[[0.79285714 0.34104046 1.         0.         0.70619815 1.        ]\n",
      " [0.74761905 0.36416185 0.916      0.13739719 0.75646657 0.4253135 ]\n",
      " [0.6547619  0.26011561 0.82       0.49250121 0.85846755 0.30137957]\n",
      " [0.         0.04046243 0.7        0.76947267 0.         0.33655235]\n",
      " [0.19047619 0.         0.444      1.         0.03221083 0.03469063]\n",
      " [0.52619048 0.3699422  0.272      0.7053701  0.34407028 0.        ]\n",
      " [0.68095238 0.42774566 0.1        0.77672956 0.81454368 0.32314636]\n",
      " [0.69761905 0.3583815  0.016      0.90251572 0.79892631 0.41931319]\n",
      " [0.87380952 0.58959538 0.         0.83889695 0.87896535 0.48651047]\n",
      " [0.78571429 0.71676301 0.         0.96202225 1.         0.87536207]\n",
      " [0.8547619  0.73410405 0.         0.80188679 0.92581747 0.61640062]\n",
      " [1.         1.         0.         0.5684567  0.99560761 0.72279002]]\n"
     ]
    }
   ],
   "source": [
    "print(validacao_cluster2)"
   ]
  },
  {
   "cell_type": "code",
   "execution_count": 131,
   "id": "f9fe1320",
   "metadata": {},
   "outputs": [
    {
     "name": "stdout",
     "output_type": "stream",
     "text": [
      "[]\n"
     ]
    }
   ],
   "source": [
    "\n",
    "values_predict = series_to_supervised(pd.DataFrame(validacao_cluster2).values, 12).values\n",
    "\n",
    "print(values_predict)"
   ]
  },
  {
   "cell_type": "code",
   "execution_count": null,
   "id": "7c3b925c",
   "metadata": {},
   "outputs": [],
   "source": []
  },
  {
   "cell_type": "code",
   "execution_count": 313,
   "id": "914cab0f",
   "metadata": {},
   "outputs": [
    {
     "data": {
      "text/plain": [
       "mes\n",
       "2020-01-01 00:00:00    1.000000\n",
       "2020-02-01 00:00:00    0.425313\n",
       "2020-03-01 00:00:00    0.301380\n",
       "2020-04-01 00:00:00    0.336552\n",
       "2020-05-01 00:00:00    0.034691\n",
       "dtype: float64"
      ]
     },
     "execution_count": 313,
     "metadata": {},
     "output_type": "execute_result"
    }
   ],
   "source": [
    "validacao_cluster2 = pd.Series(validacao_cluster2['arrecadacao'].values, index=validacao_cluster2.index)\n",
    "validacao_cluster2.head()"
   ]
  },
  {
   "cell_type": "code",
   "execution_count": 274,
   "id": "dbfea0a6",
   "metadata": {},
   "outputs": [],
   "source": [
    "#Faz a previsão no mesmo tamanho que a base de teste\n",
    "yhat = cluster2_aarima.predict(n_periods=len(validacao_cluster2), exogenous = validacao_cluster2_exog)\n",
    "yhat = pd.Series(yhat, index = validacao_cluster2.index)\n",
    "#Obtém o intervalo de confiança \n",
    "conf_int = cluster2_aarima.predict(len(validacao_cluster2), return_conf_int=True, alpha = 0.05, exogenous = validacao_cluster2_exog) "
   ]
  },
  {
   "cell_type": "code",
   "execution_count": 275,
   "id": "c2f712a9",
   "metadata": {},
   "outputs": [
    {
     "data": {
      "text/plain": [
       "(array([0.64761098, 0.34629915, 0.37921882, 0.27953151, 0.12463374,\n",
       "        0.24811141, 0.48601034, 0.37186629, 0.40836115, 0.57809564,\n",
       "        0.47510482, 0.47912548]),\n",
       " array([[0.57262666, 0.72259531],\n",
       "        [0.27044835, 0.42214995],\n",
       "        [0.30336802, 0.45506962],\n",
       "        [0.20368071, 0.35538231],\n",
       "        [0.04878294, 0.20048454],\n",
       "        [0.17226061, 0.32396221],\n",
       "        [0.41015954, 0.56186114],\n",
       "        [0.29601549, 0.44771709],\n",
       "        [0.33251035, 0.48421196],\n",
       "        [0.50224484, 0.65394644],\n",
       "        [0.39925402, 0.55095562],\n",
       "        [0.40327468, 0.55497628]]))"
      ]
     },
     "execution_count": 275,
     "metadata": {},
     "output_type": "execute_result"
    }
   ],
   "source": [
    "conf_int"
   ]
  },
  {
   "cell_type": "code",
   "execution_count": 276,
   "id": "725d38dc",
   "metadata": {},
   "outputs": [
    {
     "data": {
      "text/plain": [
       "array([[2.56201358e+10, 2.90980735e+10],\n",
       "       [1.86122892e+10, 2.21304158e+10],\n",
       "       [1.93757326e+10, 2.28938592e+10],\n",
       "       [1.70638743e+10, 2.05820010e+10],\n",
       "       [1.34716253e+10, 1.69897519e+10],\n",
       "       [1.63352078e+10, 1.98533344e+10],\n",
       "       [2.18523450e+10, 2.53704716e+10],\n",
       "       [1.92052194e+10, 2.27233460e+10],\n",
       "       [2.00515753e+10, 2.35697019e+10],\n",
       "       [2.39879042e+10, 2.75060308e+10],\n",
       "       [2.15994342e+10, 2.51175608e+10],\n",
       "       [2.16926775e+10, 2.52108042e+10]])"
      ]
     },
     "execution_count": 276,
     "metadata": {},
     "output_type": "execute_result"
    }
   ],
   "source": [
    "conf_int_inv = scaler_valid.inverse_transform(pd.DataFrame(conf_int[1]))\n",
    "conf_int_inv"
   ]
  },
  {
   "cell_type": "code",
   "execution_count": 277,
   "id": "38128c1e",
   "metadata": {},
   "outputs": [
    {
     "data": {
      "text/plain": [
       "<matplotlib.legend.Legend at 0x1e1ac24f040>"
      ]
     },
     "execution_count": 277,
     "metadata": {},
     "output_type": "execute_result"
    },
    {
     "data": {
      "image/png": "[encoded data removed]",
      "text/plain": [
       "<Figure size 1080x432 with 1 Axes>"
      ]
     },
     "metadata": {
      "needs_background": "light"
     },
     "output_type": "display_data"
    }
   ],
   "source": [
    "\n",
    "\n",
    "#Plota o resultado do modelo\n",
    "plt.plot(scaler_valid.inverse_transform(pd.DataFrame(validacao_cluster2)), label='Valor Esperado')\n",
    "plt.plot(scaler_valid.inverse_transform(pd.DataFrame(yhat)), color='red', label='AUTO-ARIMA')\n",
    "plt.fill_between(validacao_cluster2.index, conf_int_inv[:,0], conf_int_inv[:,1], color='k', alpha=.08)\n",
    "plt.title('Teste AUTO-ARIMA - MAPE: %.4f' % mape(yhat,validacao_cluster2))\n",
    "plt.grid(True,axis='y')\n",
    "plt.legend(loc='upper left')"
   ]
  },
  {
   "cell_type": "code",
   "execution_count": null,
   "id": "3a974966",
   "metadata": {},
   "outputs": [],
   "source": []
  }
 ],
 "metadata": {
  "kernelspec": {
   "display_name": "Python 3",
   "language": "python",
   "name": "python3"
  },
  "language_info": {
   "codemirror_mode": {
    "name": "ipython",
    "version": 3
   },
   "file_extension": ".py",
   "mimetype": "text/x-python",
   "name": "python",
   "nbconvert_exporter": "python",
   "pygments_lexer": "ipython3",
   "version": "3.8.10"
  }
 },
 "nbformat": 4,
 "nbformat_minor": 5
}
