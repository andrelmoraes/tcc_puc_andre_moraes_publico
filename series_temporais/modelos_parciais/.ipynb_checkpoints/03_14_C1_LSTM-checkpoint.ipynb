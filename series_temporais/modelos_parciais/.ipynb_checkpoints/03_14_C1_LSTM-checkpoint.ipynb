{
 "cells": [
  {
   "cell_type": "markdown",
   "id": "31796b3e",
   "metadata": {},
   "source": [
    "# Modelo LSTM para predição\n",
    "\n",
    "---\n",
    "\n",
    "\n",
    "___"
   ]
  },
  {
   "cell_type": "code",
   "execution_count": 1,
   "id": "155f8e0b",
   "metadata": {},
   "outputs": [],
   "source": [
    "import numpy as np\n",
    "import matplotlib.pyplot as plt \n",
    "import pandas as pd\n",
    "import math\n",
    "import requests\n",
    "import json\n",
    "import os\n",
    "import statsmodels.api as sm\n",
    "import tensorflow as tf\n",
    "from pandas import concat\n",
    "\n",
    "from sklearn.preprocessing import MinMaxScaler\n",
    "\n",
    "import warnings\n",
    "warnings.filterwarnings(\"ignore\")\n",
    "\n",
    "from statsmodels.tools.sm_exceptions import ConvergenceWarning\n",
    "warnings.simplefilter('ignore', ConvergenceWarning)\n",
    "\n",
    "import math\n",
    "\n",
    "from tensorflow import keras\n",
    "from tensorflow.keras.models import Sequential\n",
    "from tensorflow.keras.layers import Dense\n",
    "from tensorflow.keras.layers import LSTM\n",
    "from tensorflow.keras.layers import Dropout\n",
    "from tensorflow.keras.utils import plot_model\n",
    "from tensorflow.keras import initializers\n",
    "from sklearn.preprocessing import MinMaxScaler\n",
    "from sklearn.metrics import mean_squared_error"
   ]
  },
  {
   "cell_type": "markdown",
   "id": "35737da1",
   "metadata": {},
   "source": [
    "## 1. Importando os datasets"
   ]
  },
  {
   "cell_type": "code",
   "execution_count": 2,
   "id": "30f160ef",
   "metadata": {},
   "outputs": [],
   "source": [
    "dataset_cluster_series = pd.read_csv(\"..//datasets//dataset_cluster1_series.csv\", header=0, index_col=0)\n",
    "dataset_cluster_validacao = pd.read_csv(\"..//datasets//dataset_cluster1_validation.csv\", header=0, index_col=0)\n",
    "\n",
    "dataset_cluster_series = dataset_cluster_series.append(dataset_cluster_validacao)\n"
   ]
  },
  {
   "cell_type": "code",
   "execution_count": 3,
   "id": "b06f6de5",
   "metadata": {},
   "outputs": [
    {
     "data": {
      "text/html": [
       "<div>\n",
       "<style scoped>\n",
       "    .dataframe tbody tr th:only-of-type {\n",
       "        vertical-align: middle;\n",
       "    }\n",
       "\n",
       "    .dataframe tbody tr th {\n",
       "        vertical-align: top;\n",
       "    }\n",
       "\n",
       "    .dataframe thead th {\n",
       "        text-align: right;\n",
       "    }\n",
       "</style>\n",
       "<table border=\"1\" class=\"dataframe\">\n",
       "  <thead>\n",
       "    <tr style=\"text-align: right;\">\n",
       "      <th></th>\n",
       "      <th>indice_pimpf</th>\n",
       "      <th>ipca</th>\n",
       "      <th>taxa_selic</th>\n",
       "      <th>taxa_cambio</th>\n",
       "      <th>ibcbr</th>\n",
       "      <th>tjlp</th>\n",
       "      <th>pib_mensal</th>\n",
       "      <th>preco_brent</th>\n",
       "      <th>desembolso</th>\n",
       "      <th>debitos</th>\n",
       "      <th>arrecadacao</th>\n",
       "    </tr>\n",
       "    <tr>\n",
       "      <th>mes</th>\n",
       "      <th></th>\n",
       "      <th></th>\n",
       "      <th></th>\n",
       "      <th></th>\n",
       "      <th></th>\n",
       "      <th></th>\n",
       "      <th></th>\n",
       "      <th></th>\n",
       "      <th></th>\n",
       "      <th></th>\n",
       "      <th></th>\n",
       "    </tr>\n",
       "  </thead>\n",
       "  <tbody>\n",
       "    <tr>\n",
       "      <th>2004-01-01 00:00:00</th>\n",
       "      <td>104.0</td>\n",
       "      <td>0.76</td>\n",
       "      <td>16.32</td>\n",
       "      <td>136.19</td>\n",
       "      <td>98.59</td>\n",
       "      <td>10.00</td>\n",
       "      <td>1735331.5</td>\n",
       "      <td>31.18</td>\n",
       "      <td>1107.0</td>\n",
       "      <td>7472665.21</td>\n",
       "      <td>24292254.98</td>\n",
       "    </tr>\n",
       "    <tr>\n",
       "      <th>2004-02-01 00:00:00</th>\n",
       "      <td>103.1</td>\n",
       "      <td>0.61</td>\n",
       "      <td>16.30</td>\n",
       "      <td>139.84</td>\n",
       "      <td>99.45</td>\n",
       "      <td>10.00</td>\n",
       "      <td>1746819.2</td>\n",
       "      <td>30.87</td>\n",
       "      <td>2559.0</td>\n",
       "      <td>15992826.63</td>\n",
       "      <td>20243261.18</td>\n",
       "    </tr>\n",
       "    <tr>\n",
       "      <th>2004-03-01 00:00:00</th>\n",
       "      <td>113.0</td>\n",
       "      <td>0.47</td>\n",
       "      <td>16.19</td>\n",
       "      <td>138.89</td>\n",
       "      <td>111.98</td>\n",
       "      <td>10.00</td>\n",
       "      <td>1765492.2</td>\n",
       "      <td>33.80</td>\n",
       "      <td>4302.0</td>\n",
       "      <td>14035100.35</td>\n",
       "      <td>21503893.13</td>\n",
       "    </tr>\n",
       "    <tr>\n",
       "      <th>2004-04-01 00:00:00</th>\n",
       "      <td>107.8</td>\n",
       "      <td>0.37</td>\n",
       "      <td>15.96</td>\n",
       "      <td>138.85</td>\n",
       "      <td>107.36</td>\n",
       "      <td>9.75</td>\n",
       "      <td>1781058.0</td>\n",
       "      <td>33.36</td>\n",
       "      <td>5474.0</td>\n",
       "      <td>26344116.48</td>\n",
       "      <td>27743614.22</td>\n",
       "    </tr>\n",
       "    <tr>\n",
       "      <th>2004-05-01 00:00:00</th>\n",
       "      <td>108.9</td>\n",
       "      <td>0.51</td>\n",
       "      <td>15.77</td>\n",
       "      <td>148.25</td>\n",
       "      <td>106.03</td>\n",
       "      <td>9.75</td>\n",
       "      <td>1800951.1</td>\n",
       "      <td>37.92</td>\n",
       "      <td>5976.0</td>\n",
       "      <td>16300643.64</td>\n",
       "      <td>27665574.88</td>\n",
       "    </tr>\n",
       "    <tr>\n",
       "      <th>2004-06-01 00:00:00</th>\n",
       "      <td>113.1</td>\n",
       "      <td>0.71</td>\n",
       "      <td>15.80</td>\n",
       "      <td>149.04</td>\n",
       "      <td>107.00</td>\n",
       "      <td>9.75</td>\n",
       "      <td>1828299.9</td>\n",
       "      <td>35.19</td>\n",
       "      <td>7338.0</td>\n",
       "      <td>14513334.14</td>\n",
       "      <td>28449577.71</td>\n",
       "    </tr>\n",
       "    <tr>\n",
       "      <th>2004-07-01 00:00:00</th>\n",
       "      <td>110.9</td>\n",
       "      <td>0.91</td>\n",
       "      <td>15.77</td>\n",
       "      <td>143.11</td>\n",
       "      <td>111.47</td>\n",
       "      <td>9.75</td>\n",
       "      <td>1853700.2</td>\n",
       "      <td>38.37</td>\n",
       "      <td>8251.0</td>\n",
       "      <td>28615256.55</td>\n",
       "      <td>32201565.39</td>\n",
       "    </tr>\n",
       "    <tr>\n",
       "      <th>2004-08-01 00:00:00</th>\n",
       "      <td>113.2</td>\n",
       "      <td>0.69</td>\n",
       "      <td>15.86</td>\n",
       "      <td>140.62</td>\n",
       "      <td>110.65</td>\n",
       "      <td>9.75</td>\n",
       "      <td>1878059.7</td>\n",
       "      <td>43.03</td>\n",
       "      <td>8887.0</td>\n",
       "      <td>15948970.28</td>\n",
       "      <td>34787089.96</td>\n",
       "    </tr>\n",
       "    <tr>\n",
       "      <th>2004-09-01 00:00:00</th>\n",
       "      <td>107.6</td>\n",
       "      <td>0.33</td>\n",
       "      <td>16.09</td>\n",
       "      <td>135.23</td>\n",
       "      <td>109.21</td>\n",
       "      <td>9.75</td>\n",
       "      <td>1894202.4</td>\n",
       "      <td>43.38</td>\n",
       "      <td>9562.0</td>\n",
       "      <td>17532215.81</td>\n",
       "      <td>37284767.93</td>\n",
       "    </tr>\n",
       "    <tr>\n",
       "      <th>2004-10-01 00:00:00</th>\n",
       "      <td>103.8</td>\n",
       "      <td>0.44</td>\n",
       "      <td>16.41</td>\n",
       "      <td>133.55</td>\n",
       "      <td>108.89</td>\n",
       "      <td>9.75</td>\n",
       "      <td>1909813.0</td>\n",
       "      <td>49.82</td>\n",
       "      <td>11099.0</td>\n",
       "      <td>29586026.28</td>\n",
       "      <td>41406878.18</td>\n",
       "    </tr>\n",
       "    <tr>\n",
       "      <th>2004-11-01 00:00:00</th>\n",
       "      <td>108.6</td>\n",
       "      <td>0.69</td>\n",
       "      <td>16.96</td>\n",
       "      <td>129.60</td>\n",
       "      <td>109.59</td>\n",
       "      <td>9.75</td>\n",
       "      <td>1933090.2</td>\n",
       "      <td>43.05</td>\n",
       "      <td>12842.0</td>\n",
       "      <td>18183252.34</td>\n",
       "      <td>36831649.97</td>\n",
       "    </tr>\n",
       "    <tr>\n",
       "      <th>2004-12-01 00:00:00</th>\n",
       "      <td>108.9</td>\n",
       "      <td>0.86</td>\n",
       "      <td>17.50</td>\n",
       "      <td>124.90</td>\n",
       "      <td>107.56</td>\n",
       "      <td>9.75</td>\n",
       "      <td>1957751.2</td>\n",
       "      <td>39.64</td>\n",
       "      <td>15526.0</td>\n",
       "      <td>18391567.40</td>\n",
       "      <td>45808399.70</td>\n",
       "    </tr>\n",
       "    <tr>\n",
       "      <th>2005-01-01 00:00:00</th>\n",
       "      <td>105.4</td>\n",
       "      <td>0.58</td>\n",
       "      <td>17.93</td>\n",
       "      <td>123.29</td>\n",
       "      <td>103.52</td>\n",
       "      <td>9.75</td>\n",
       "      <td>1976732.7</td>\n",
       "      <td>44.28</td>\n",
       "      <td>2089.0</td>\n",
       "      <td>36692674.95</td>\n",
       "      <td>43789355.30</td>\n",
       "    </tr>\n",
       "    <tr>\n",
       "      <th>2005-02-01 00:00:00</th>\n",
       "      <td>103.3</td>\n",
       "      <td>0.59</td>\n",
       "      <td>18.47</td>\n",
       "      <td>118.92</td>\n",
       "      <td>104.00</td>\n",
       "      <td>9.75</td>\n",
       "      <td>1994573.0</td>\n",
       "      <td>45.56</td>\n",
       "      <td>3051.0</td>\n",
       "      <td>18717839.03</td>\n",
       "      <td>28585072.70</td>\n",
       "    </tr>\n",
       "    <tr>\n",
       "      <th>2005-03-01 00:00:00</th>\n",
       "      <td>101.0</td>\n",
       "      <td>0.61</td>\n",
       "      <td>18.97</td>\n",
       "      <td>124.02</td>\n",
       "      <td>115.42</td>\n",
       "      <td>9.75</td>\n",
       "      <td>2012678.1</td>\n",
       "      <td>53.08</td>\n",
       "      <td>4797.0</td>\n",
       "      <td>15195023.26</td>\n",
       "      <td>26794290.27</td>\n",
       "    </tr>\n",
       "    <tr>\n",
       "      <th>2005-04-01 00:00:00</th>\n",
       "      <td>105.4</td>\n",
       "      <td>0.87</td>\n",
       "      <td>19.32</td>\n",
       "      <td>118.03</td>\n",
       "      <td>112.35</td>\n",
       "      <td>9.75</td>\n",
       "      <td>2032903.2</td>\n",
       "      <td>51.86</td>\n",
       "      <td>5966.0</td>\n",
       "      <td>30353643.53</td>\n",
       "      <td>35417908.18</td>\n",
       "    </tr>\n",
       "    <tr>\n",
       "      <th>2005-05-01 00:00:00</th>\n",
       "      <td>104.9</td>\n",
       "      <td>0.49</td>\n",
       "      <td>19.61</td>\n",
       "      <td>111.59</td>\n",
       "      <td>110.86</td>\n",
       "      <td>9.75</td>\n",
       "      <td>2050901.0</td>\n",
       "      <td>48.67</td>\n",
       "      <td>7363.0</td>\n",
       "      <td>21731658.41</td>\n",
       "      <td>35050371.68</td>\n",
       "    </tr>\n",
       "    <tr>\n",
       "      <th>2005-06-01 00:00:00</th>\n",
       "      <td>105.6</td>\n",
       "      <td>-0.02</td>\n",
       "      <td>19.75</td>\n",
       "      <td>109.88</td>\n",
       "      <td>111.50</td>\n",
       "      <td>9.75</td>\n",
       "      <td>2066440.6</td>\n",
       "      <td>54.31</td>\n",
       "      <td>10274.0</td>\n",
       "      <td>20923099.56</td>\n",
       "      <td>36853780.92</td>\n",
       "    </tr>\n",
       "    <tr>\n",
       "      <th>2005-07-01 00:00:00</th>\n",
       "      <td>99.9</td>\n",
       "      <td>0.25</td>\n",
       "      <td>19.72</td>\n",
       "      <td>108.29</td>\n",
       "      <td>113.15</td>\n",
       "      <td>9.75</td>\n",
       "      <td>2079143.4</td>\n",
       "      <td>57.58</td>\n",
       "      <td>11523.0</td>\n",
       "      <td>29935267.16</td>\n",
       "      <td>39256263.52</td>\n",
       "    </tr>\n",
       "    <tr>\n",
       "      <th>2005-08-01 00:00:00</th>\n",
       "      <td>103.5</td>\n",
       "      <td>0.17</td>\n",
       "      <td>19.75</td>\n",
       "      <td>108.07</td>\n",
       "      <td>115.15</td>\n",
       "      <td>9.75</td>\n",
       "      <td>2097211.1</td>\n",
       "      <td>64.09</td>\n",
       "      <td>13512.0</td>\n",
       "      <td>22339702.32</td>\n",
       "      <td>38846167.59</td>\n",
       "    </tr>\n",
       "  </tbody>\n",
       "</table>\n",
       "</div>"
      ],
      "text/plain": [
       "                     indice_pimpf  ipca  taxa_selic  taxa_cambio   ibcbr  \\\n",
       "mes                                                                        \n",
       "2004-01-01 00:00:00         104.0  0.76       16.32       136.19   98.59   \n",
       "2004-02-01 00:00:00         103.1  0.61       16.30       139.84   99.45   \n",
       "2004-03-01 00:00:00         113.0  0.47       16.19       138.89  111.98   \n",
       "2004-04-01 00:00:00         107.8  0.37       15.96       138.85  107.36   \n",
       "2004-05-01 00:00:00         108.9  0.51       15.77       148.25  106.03   \n",
       "2004-06-01 00:00:00         113.1  0.71       15.80       149.04  107.00   \n",
       "2004-07-01 00:00:00         110.9  0.91       15.77       143.11  111.47   \n",
       "2004-08-01 00:00:00         113.2  0.69       15.86       140.62  110.65   \n",
       "2004-09-01 00:00:00         107.6  0.33       16.09       135.23  109.21   \n",
       "2004-10-01 00:00:00         103.8  0.44       16.41       133.55  108.89   \n",
       "2004-11-01 00:00:00         108.6  0.69       16.96       129.60  109.59   \n",
       "2004-12-01 00:00:00         108.9  0.86       17.50       124.90  107.56   \n",
       "2005-01-01 00:00:00         105.4  0.58       17.93       123.29  103.52   \n",
       "2005-02-01 00:00:00         103.3  0.59       18.47       118.92  104.00   \n",
       "2005-03-01 00:00:00         101.0  0.61       18.97       124.02  115.42   \n",
       "2005-04-01 00:00:00         105.4  0.87       19.32       118.03  112.35   \n",
       "2005-05-01 00:00:00         104.9  0.49       19.61       111.59  110.86   \n",
       "2005-06-01 00:00:00         105.6 -0.02       19.75       109.88  111.50   \n",
       "2005-07-01 00:00:00          99.9  0.25       19.72       108.29  113.15   \n",
       "2005-08-01 00:00:00         103.5  0.17       19.75       108.07  115.15   \n",
       "\n",
       "                      tjlp  pib_mensal  preco_brent  desembolso      debitos  \\\n",
       "mes                                                                            \n",
       "2004-01-01 00:00:00  10.00   1735331.5        31.18      1107.0   7472665.21   \n",
       "2004-02-01 00:00:00  10.00   1746819.2        30.87      2559.0  15992826.63   \n",
       "2004-03-01 00:00:00  10.00   1765492.2        33.80      4302.0  14035100.35   \n",
       "2004-04-01 00:00:00   9.75   1781058.0        33.36      5474.0  26344116.48   \n",
       "2004-05-01 00:00:00   9.75   1800951.1        37.92      5976.0  16300643.64   \n",
       "2004-06-01 00:00:00   9.75   1828299.9        35.19      7338.0  14513334.14   \n",
       "2004-07-01 00:00:00   9.75   1853700.2        38.37      8251.0  28615256.55   \n",
       "2004-08-01 00:00:00   9.75   1878059.7        43.03      8887.0  15948970.28   \n",
       "2004-09-01 00:00:00   9.75   1894202.4        43.38      9562.0  17532215.81   \n",
       "2004-10-01 00:00:00   9.75   1909813.0        49.82     11099.0  29586026.28   \n",
       "2004-11-01 00:00:00   9.75   1933090.2        43.05     12842.0  18183252.34   \n",
       "2004-12-01 00:00:00   9.75   1957751.2        39.64     15526.0  18391567.40   \n",
       "2005-01-01 00:00:00   9.75   1976732.7        44.28      2089.0  36692674.95   \n",
       "2005-02-01 00:00:00   9.75   1994573.0        45.56      3051.0  18717839.03   \n",
       "2005-03-01 00:00:00   9.75   2012678.1        53.08      4797.0  15195023.26   \n",
       "2005-04-01 00:00:00   9.75   2032903.2        51.86      5966.0  30353643.53   \n",
       "2005-05-01 00:00:00   9.75   2050901.0        48.67      7363.0  21731658.41   \n",
       "2005-06-01 00:00:00   9.75   2066440.6        54.31     10274.0  20923099.56   \n",
       "2005-07-01 00:00:00   9.75   2079143.4        57.58     11523.0  29935267.16   \n",
       "2005-08-01 00:00:00   9.75   2097211.1        64.09     13512.0  22339702.32   \n",
       "\n",
       "                     arrecadacao  \n",
       "mes                               \n",
       "2004-01-01 00:00:00  24292254.98  \n",
       "2004-02-01 00:00:00  20243261.18  \n",
       "2004-03-01 00:00:00  21503893.13  \n",
       "2004-04-01 00:00:00  27743614.22  \n",
       "2004-05-01 00:00:00  27665574.88  \n",
       "2004-06-01 00:00:00  28449577.71  \n",
       "2004-07-01 00:00:00  32201565.39  \n",
       "2004-08-01 00:00:00  34787089.96  \n",
       "2004-09-01 00:00:00  37284767.93  \n",
       "2004-10-01 00:00:00  41406878.18  \n",
       "2004-11-01 00:00:00  36831649.97  \n",
       "2004-12-01 00:00:00  45808399.70  \n",
       "2005-01-01 00:00:00  43789355.30  \n",
       "2005-02-01 00:00:00  28585072.70  \n",
       "2005-03-01 00:00:00  26794290.27  \n",
       "2005-04-01 00:00:00  35417908.18  \n",
       "2005-05-01 00:00:00  35050371.68  \n",
       "2005-06-01 00:00:00  36853780.92  \n",
       "2005-07-01 00:00:00  39256263.52  \n",
       "2005-08-01 00:00:00  38846167.59  "
      ]
     },
     "execution_count": 3,
     "metadata": {},
     "output_type": "execute_result"
    }
   ],
   "source": [
    "# dataset_cluster_series = dataset_cluster_series.drop('desembolso', axis=1)\n",
    "# dataset_cluster_series = dataset_cluster_series.drop('preco_brent', axis=1)\n",
    "# dataset_cluster_series = dataset_cluster_series.drop('tjlp', axis=1)\n",
    "# dataset_cluster_series = dataset_cluster_series.drop('pib_mensal', axis=1)\n",
    "\n",
    "dataset_cluster_series.head(20)"
   ]
  },
  {
   "cell_type": "markdown",
   "id": "6640727b",
   "metadata": {},
   "source": [
    "## 2. Preparando o dataset para a rede neural LSTM"
   ]
  },
  {
   "cell_type": "code",
   "execution_count": 4,
   "id": "ea76c61c",
   "metadata": {},
   "outputs": [],
   "source": [
    "np.random.seed(10)\n"
   ]
  },
  {
   "cell_type": "code",
   "execution_count": 5,
   "id": "1a79102e",
   "metadata": {},
   "outputs": [],
   "source": [
    "serie_cluster = np.array(dataset_cluster_series)"
   ]
  },
  {
   "cell_type": "code",
   "execution_count": 6,
   "id": "69c16c77",
   "metadata": {},
   "outputs": [
    {
     "name": "stdout",
     "output_type": "stream",
     "text": [
      "[[1.04000000e+02 7.60000000e-01 1.63200000e+01 ... 1.10700000e+03\n",
      "  7.47266521e+06 2.42922550e+07]\n",
      " [1.03100000e+02 6.10000000e-01 1.63000000e+01 ... 2.55900000e+03\n",
      "  1.59928266e+07 2.02432612e+07]\n",
      " [1.13000000e+02 4.70000000e-01 1.61900000e+01 ... 4.30200000e+03\n",
      "  1.40351003e+07 2.15038931e+07]\n",
      " ...\n",
      " [1.01200000e+02 8.60000000e-01 1.90000000e+00 ... 8.31900000e+03\n",
      "  1.64616069e+09 1.16287568e+09]\n",
      " [1.04100000e+02 8.90000000e-01 1.90000000e+00 ... 9.33800000e+03\n",
      "  2.48474111e+09 1.10391001e+09]\n",
      " [1.10200000e+02 1.35000000e+00 1.90000000e+00 ... 1.26730000e+04\n",
      "  7.69744738e+08 1.08570158e+09]]\n"
     ]
    }
   ],
   "source": [
    "print(serie_cluster)"
   ]
  },
  {
   "cell_type": "markdown",
   "id": "3a37051b",
   "metadata": {},
   "source": [
    "### 2.1 Convertendo o array em um modelo de dados 3D para entrada na rede LSTM \n",
    "\n",
    "---\n",
    "Créditos: https://machinelearningmastery.com/convert-time-series-supervised-learning-problem-python/\n",
    "\n",
    "Para fazer a predição, utilizei os 12 primeiros meses para predizer o seguinte. Com isso, o dataset perde 12 meses, uma vez que os 11 primeiros meses não possuem 12 meses anteriores e o último mês não possui valor conhecido da arrecadação do mês subsequente.\n",
    "\n",
    "___"
   ]
  },
  {
   "cell_type": "code",
   "execution_count": 7,
   "id": "569b3323",
   "metadata": {},
   "outputs": [
    {
     "name": "stdout",
     "output_type": "stream",
     "text": [
      "     var1(t-12)  var2(t-12)  var3(t-12)  var4(t-12)  var5(t-12)  var6(t-12)  \\\n",
      "12        104.0        0.76       16.32      136.19       98.59       10.00   \n",
      "13        103.1        0.61       16.30      139.84       99.45       10.00   \n",
      "14        113.0        0.47       16.19      138.89      111.98       10.00   \n",
      "15        107.8        0.37       15.96      138.85      107.36        9.75   \n",
      "16        108.9        0.51       15.77      148.25      106.03        9.75   \n",
      "..          ...         ...         ...         ...         ...         ...   \n",
      "199        97.9        0.11        5.90      114.23      141.78        5.95   \n",
      "200       101.7       -0.04        5.71      117.25      138.26        5.95   \n",
      "201       102.5        0.10        5.38      116.42      142.80        5.57   \n",
      "202        99.4        0.51        4.90      117.74      138.83        5.57   \n",
      "203       100.6        1.15        4.59      114.94      137.50        5.57   \n",
      "\n",
      "     var7(t-12)  var8(t-12)  var9(t-12)   var10(t-12)  ...  var2(t)  var3(t)  \\\n",
      "12    1735331.5       31.18      1107.0  7.472665e+06  ...     0.58    17.93   \n",
      "13    1746819.2       30.87      2559.0  1.599283e+07  ...     0.59    18.47   \n",
      "14    1765492.2       33.80      4302.0  1.403510e+07  ...     0.61    18.97   \n",
      "15    1781058.0       33.36      5474.0  2.634412e+07  ...     0.87    19.32   \n",
      "16    1800951.1       37.92      5976.0  1.630064e+07  ...     0.49    19.61   \n",
      "..          ...         ...         ...           ...  ...      ...      ...   \n",
      "199   7259724.1       59.25      5751.0  5.001832e+08  ...     0.24     1.94   \n",
      "200   7305486.4       62.33      6270.0  5.583311e+08  ...     0.64     1.90   \n",
      "201   7343681.6       59.37      6678.0  1.252881e+09  ...     0.86     1.90   \n",
      "202   7374387.3       62.74      7202.0  6.173872e+08  ...     0.89     1.90   \n",
      "203   7407023.6       65.85      8737.0  6.140260e+08  ...     1.35     1.90   \n",
      "\n",
      "     var4(t)  var5(t)  var6(t)    var7(t)  var8(t)  var9(t)      var10(t)  \\\n",
      "12    123.29   103.52     9.75  1976732.7    44.28   2089.0  3.669267e+07   \n",
      "13    118.92   104.00     9.75  1994573.0    45.56   3051.0  1.871784e+07   \n",
      "14    124.02   115.42     9.75  2012678.1    53.08   4797.0  1.519502e+07   \n",
      "15    118.03   112.35     9.75  2032903.2    51.86   5966.0  3.035364e+07   \n",
      "16    111.59   110.86     9.75  2050901.0    48.67   7363.0  2.173166e+07   \n",
      "..       ...      ...      ...        ...      ...      ...           ...   \n",
      "199   153.47   135.52     4.91  7348772.7    44.26   7081.0  8.492814e+08   \n",
      "200   150.84   137.10     4.91  7367379.0    41.09   7525.0  6.297868e+08   \n",
      "201   155.93   139.73     4.55  7386165.6    40.47   8319.0  1.646161e+09   \n",
      "202   149.31   138.11     4.55  7417829.9    43.23   9338.0  2.484741e+09   \n",
      "203   139.66   139.41     4.55  7447858.3    49.87  12673.0  7.697447e+08   \n",
      "\n",
      "         var11(t)  \n",
      "12   4.378936e+07  \n",
      "13   2.858507e+07  \n",
      "14   2.679429e+07  \n",
      "15   3.541791e+07  \n",
      "16   3.505037e+07  \n",
      "..            ...  \n",
      "199  9.307993e+08  \n",
      "200  8.225617e+08  \n",
      "201  1.162876e+09  \n",
      "202  1.103910e+09  \n",
      "203  1.085702e+09  \n",
      "\n",
      "[192 rows x 143 columns]\n"
     ]
    }
   ],
   "source": [
    "from pandas import DataFrame\n",
    "from pandas import concat\n",
    " \n",
    "def series_to_supervised(data, n_in=1, n_out=1, dropnan=True):\n",
    "    \"\"\"\n",
    "    Frame a time series as a supervised learning dataset.\n",
    "    Arguments:\n",
    "        data: Sequence of observations as a list or NumPy array.\n",
    "        n_in: Number of lag observations as input (X).\n",
    "        n_out: Number of observations as output (y).\n",
    "        dropnan: Boolean whether or not to drop rows with NaN values.\n",
    "    Returns:\n",
    "        Pandas DataFrame of series framed for supervised learning.\n",
    "    \"\"\"\n",
    "    n_vars = 1 if type(data) is list else data.shape[1]\n",
    "    df = DataFrame(data)\n",
    "    cols, names = list(), list()\n",
    "    # input sequence (t-n, ... t-1)\n",
    "    for i in range(n_in, 0, -1):\n",
    "        cols.append(df.shift(i))\n",
    "        names += [('var%d(t-%d)' % (j+1, i)) for j in range(n_vars)]\n",
    "    # forecast sequence (t, t+1, ... t+n)\n",
    "    for i in range(0, n_out):\n",
    "        cols.append(df.shift(-i))\n",
    "        if i == 0:\n",
    "            names += [('var%d(t)' % (j+1)) for j in range(n_vars)]\n",
    "        else:\n",
    "            names += [('var%d(t+%d)' % (j+1, i)) for j in range(n_vars)]\n",
    "    # put it all together\n",
    "    agg = concat(cols, axis=1)\n",
    "    agg.columns = names\n",
    "    # drop rows with NaN values\n",
    "    if dropnan:\n",
    "        agg.dropna(inplace=True)\n",
    "    return agg\n",
    " \n",
    " \n",
    "raw = DataFrame()\n",
    "raw['ob1'] = [x for x in range(10)]\n",
    "raw['ob2'] = [x for x in range(50, 60)]\n",
    "# values = raw.values\n",
    "values = pd.DataFrame(serie_cluster).values\n",
    "serie_cluster_prepared = series_to_supervised(values,12)\n",
    "print(serie_cluster_prepared)"
   ]
  },
  {
   "cell_type": "markdown",
   "id": "7f060117",
   "metadata": {},
   "source": [
    "### 2.3 Dividindo o dataset em sets de treino e teste"
   ]
  },
  {
   "cell_type": "code",
   "execution_count": 8,
   "id": "cce687d4",
   "metadata": {},
   "outputs": [],
   "source": [
    "# Divide em conjuntos de treino e teste e predição\n",
    "values = serie_cluster_prepared.values\n",
    "# Base de treino com 144 meses\n",
    "periodo_treino = 144\n",
    "train = values[:periodo_treino, :]\n",
    "test = values[periodo_treino:180, :]\n",
    "predict = values[180:, :]\n"
   ]
  },
  {
   "cell_type": "code",
   "execution_count": 9,
   "id": "8046f209",
   "metadata": {},
   "outputs": [],
   "source": [
    "train_X, train_y = train[:, :-1], train[:, -1]\n",
    "test_X, test_y = test[:, :-1], test[:, -1]\n",
    "predict_X, predict_y = predict[:, :-1], predict[:, -1]"
   ]
  },
  {
   "cell_type": "markdown",
   "id": "71cf4d24",
   "metadata": {},
   "source": [
    "### Normalizando os datasets"
   ]
  },
  {
   "cell_type": "code",
   "execution_count": 10,
   "id": "c8863eee",
   "metadata": {},
   "outputs": [],
   "source": [
    "## Normalizando os datasets\n",
    "\n",
    "\n",
    "scaler_X = MinMaxScaler(feature_range=(0, 1))\n",
    "scaler_y = MinMaxScaler(feature_range=(0, 1))\n",
    "scaler_predict_X = MinMaxScaler(feature_range=(0, 1))\n",
    "scaler_predict_y = MinMaxScaler(feature_range=(0, 1))\n",
    "\n",
    "\n",
    "train_X = scaler_X.fit_transform(train_X)\n",
    "test_X = scaler_X.fit_transform(test_X)\n",
    "\n",
    "train_y = scaler_y.fit_transform(train_y.reshape(-1,1))\n",
    "test_y = scaler_y.fit_transform(test_y.reshape(-1,1))\n",
    "\n",
    "predict_X = scaler_predict_X.fit_transform(predict_X)\n",
    "predict_y = scaler_predict_y.fit_transform(predict_y.reshape(-1,1))"
   ]
  },
  {
   "cell_type": "code",
   "execution_count": 11,
   "id": "8c63ff4b",
   "metadata": {},
   "outputs": [
    {
     "name": "stdout",
     "output_type": "stream",
     "text": [
      "(144, 1, 142) (144, 1) (36, 1, 142) (36, 1) (12, 1, 142) (12, 1)\n"
     ]
    }
   ],
   "source": [
    "# Reformata o array 3D \n",
    "train_X = train_X.reshape((train_X.shape[0], 1, train_X.shape[1]))\n",
    "test_X = test_X.reshape((test_X.shape[0], 1, test_X.shape[1]))\n",
    "predict_X = predict_X.reshape((predict_X.shape[0], 1, predict_X.shape[1]))\n",
    "print(train_X.shape, train_y.shape, test_X.shape, test_y.shape,predict_X.shape, predict_y.shape)"
   ]
  },
  {
   "cell_type": "markdown",
   "id": "09a8c0a4",
   "metadata": {},
   "source": [
    "## 3. Implementando o modelo LSTM\n"
   ]
  },
  {
   "cell_type": "code",
   "execution_count": 12,
   "id": "e3adaba8",
   "metadata": {},
   "outputs": [],
   "source": [
    "#Função para calculo do MAPE - Mean Absolute Percentage Error, que será  utilizado como medida de erro do modelo\n",
    "\n",
    "def calculo_mape(y_pred,y_true):\n",
    "\n",
    "    return np.mean(np.abs((y_true - y_pred) / y_true)) * 100"
   ]
  },
  {
   "cell_type": "code",
   "execution_count": 13,
   "id": "bf45ad32",
   "metadata": {},
   "outputs": [
    {
     "data": {
      "text/plain": [
       "(144, 1, 142)"
      ]
     },
     "execution_count": 13,
     "metadata": {},
     "output_type": "execute_result"
    }
   ],
   "source": [
    "train_X.shape"
   ]
  },
  {
   "cell_type": "code",
   "execution_count": 34,
   "id": "86fac294",
   "metadata": {},
   "outputs": [
    {
     "name": "stdout",
     "output_type": "stream",
     "text": [
      "Epoch 1/50\n",
      "3/3 [==============================] - 1s 148ms/step - loss: 0.0562 - val_loss: 0.0633\n",
      "Epoch 2/50\n",
      "3/3 [==============================] - 0s 15ms/step - loss: 0.0271 - val_loss: 0.0277\n",
      "Epoch 3/50\n",
      "3/3 [==============================] - 0s 15ms/step - loss: 0.0381 - val_loss: 0.0207\n",
      "Epoch 4/50\n",
      "3/3 [==============================] - 0s 14ms/step - loss: 0.0431 - val_loss: 0.0176\n",
      "Epoch 5/50\n",
      "3/3 [==============================] - 0s 14ms/step - loss: 0.0328 - val_loss: 0.0164\n",
      "Epoch 6/50\n",
      "3/3 [==============================] - 0s 14ms/step - loss: 0.0174 - val_loss: 0.0216\n",
      "Epoch 7/50\n",
      "3/3 [==============================] - 0s 15ms/step - loss: 0.0081 - val_loss: 0.0319\n",
      "Epoch 8/50\n",
      "3/3 [==============================] - 0s 15ms/step - loss: 0.0069 - val_loss: 0.0397\n",
      "Epoch 9/50\n",
      "3/3 [==============================] - 0s 14ms/step - loss: 0.0084 - val_loss: 0.0394\n",
      "Epoch 10/50\n",
      "3/3 [==============================] - 0s 14ms/step - loss: 0.0082 - val_loss: 0.0333\n",
      "Epoch 11/50\n",
      "3/3 [==============================] - 0s 14ms/step - loss: 0.0068 - val_loss: 0.0268\n",
      "Epoch 12/50\n",
      "3/3 [==============================] - 0s 14ms/step - loss: 0.0057 - val_loss: 0.0232\n",
      "Epoch 13/50\n",
      "3/3 [==============================] - 0s 13ms/step - loss: 0.0052 - val_loss: 0.0224\n",
      "Epoch 14/50\n",
      "3/3 [==============================] - 0s 14ms/step - loss: 0.0047 - val_loss: 0.0237\n",
      "Epoch 15/50\n",
      "3/3 [==============================] - 0s 17ms/step - loss: 0.0044 - val_loss: 0.0256\n",
      "Epoch 16/50\n",
      "3/3 [==============================] - 0s 15ms/step - loss: 0.0043 - val_loss: 0.0265\n",
      "Epoch 17/50\n",
      "3/3 [==============================] - 0s 15ms/step - loss: 0.0042 - val_loss: 0.0255\n",
      "Epoch 18/50\n",
      "3/3 [==============================] - 0s 15ms/step - loss: 0.0040 - val_loss: 0.0233\n",
      "Epoch 19/50\n",
      "3/3 [==============================] - 0s 14ms/step - loss: 0.0039 - val_loss: 0.0212\n",
      "Epoch 20/50\n",
      "3/3 [==============================] - 0s 14ms/step - loss: 0.0038 - val_loss: 0.0200\n",
      "Epoch 21/50\n",
      "3/3 [==============================] - 0s 15ms/step - loss: 0.0037 - val_loss: 0.0198\n",
      "Epoch 22/50\n",
      "3/3 [==============================] - 0s 14ms/step - loss: 0.0036 - val_loss: 0.0204\n",
      "Epoch 23/50\n",
      "3/3 [==============================] - 0s 14ms/step - loss: 0.0034 - val_loss: 0.0211\n",
      "Epoch 24/50\n",
      "3/3 [==============================] - 0s 14ms/step - loss: 0.0033 - val_loss: 0.0213\n",
      "Epoch 25/50\n",
      "3/3 [==============================] - 0s 16ms/step - loss: 0.0032 - val_loss: 0.0208\n",
      "Epoch 26/50\n",
      "3/3 [==============================] - 0s 15ms/step - loss: 0.0031 - val_loss: 0.0199\n",
      "Epoch 27/50\n",
      "3/3 [==============================] - 0s 14ms/step - loss: 0.0030 - val_loss: 0.0192\n",
      "Epoch 28/50\n",
      "3/3 [==============================] - 0s 15ms/step - loss: 0.0029 - val_loss: 0.0189\n",
      "Epoch 29/50\n",
      "3/3 [==============================] - 0s 16ms/step - loss: 0.0028 - val_loss: 0.0188\n",
      "Epoch 30/50\n",
      "3/3 [==============================] - 0s 17ms/step - loss: 0.0027 - val_loss: 0.0187\n",
      "Epoch 31/50\n",
      "3/3 [==============================] - 0s 14ms/step - loss: 0.0027 - val_loss: 0.0184\n",
      "Epoch 32/50\n",
      "3/3 [==============================] - 0s 16ms/step - loss: 0.0026 - val_loss: 0.0179\n",
      "Epoch 33/50\n",
      "3/3 [==============================] - 0s 15ms/step - loss: 0.0025 - val_loss: 0.0173\n",
      "Epoch 34/50\n",
      "3/3 [==============================] - 0s 15ms/step - loss: 0.0025 - val_loss: 0.0170\n",
      "Epoch 35/50\n",
      "3/3 [==============================] - 0s 15ms/step - loss: 0.0024 - val_loss: 0.0168\n",
      "Epoch 36/50\n",
      "3/3 [==============================] - 0s 14ms/step - loss: 0.0023 - val_loss: 0.0166\n",
      "Epoch 37/50\n",
      "3/3 [==============================] - 0s 14ms/step - loss: 0.0023 - val_loss: 0.0164\n",
      "Epoch 38/50\n",
      "3/3 [==============================] - 0s 15ms/step - loss: 0.0022 - val_loss: 0.0161\n",
      "Epoch 39/50\n",
      "3/3 [==============================] - 0s 14ms/step - loss: 0.0022 - val_loss: 0.0158\n",
      "Epoch 40/50\n",
      "3/3 [==============================] - 0s 14ms/step - loss: 0.0021 - val_loss: 0.0155\n",
      "Epoch 41/50\n",
      "3/3 [==============================] - 0s 14ms/step - loss: 0.0021 - val_loss: 0.0153\n",
      "Epoch 42/50\n",
      "3/3 [==============================] - 0s 15ms/step - loss: 0.0020 - val_loss: 0.0151\n",
      "Epoch 43/50\n",
      "3/3 [==============================] - 0s 14ms/step - loss: 0.0020 - val_loss: 0.0149\n",
      "Epoch 44/50\n",
      "3/3 [==============================] - 0s 14ms/step - loss: 0.0019 - val_loss: 0.0146\n",
      "Epoch 45/50\n",
      "3/3 [==============================] - 0s 15ms/step - loss: 0.0019 - val_loss: 0.0143\n",
      "Epoch 46/50\n",
      "3/3 [==============================] - 0s 14ms/step - loss: 0.0019 - val_loss: 0.0141\n",
      "Epoch 47/50\n",
      "3/3 [==============================] - 0s 14ms/step - loss: 0.0018 - val_loss: 0.0140\n",
      "Epoch 48/50\n",
      "3/3 [==============================] - 0s 14ms/step - loss: 0.0018 - val_loss: 0.0138\n",
      "Epoch 49/50\n",
      "3/3 [==============================] - 0s 14ms/step - loss: 0.0018 - val_loss: 0.0136\n",
      "Epoch 50/50\n",
      "3/3 [==============================] - 0s 15ms/step - loss: 0.0017 - val_loss: 0.0134\n"
     ]
    }
   ],
   "source": [
    "\n",
    "\n",
    "initializer = tf.keras.initializers.GlorotNormal(seed=11)\n",
    "\n",
    "model = Sequential()\n",
    "\n",
    "model.add(LSTM(20, kernel_initializer=initializer, \n",
    "               input_shape=(train_X.shape[1], train_X.shape[2])))\n",
    "\n",
    "model.add(Dense(1))\n",
    "\n",
    "model.compile(loss='mean_squared_error', optimizer='Adam')\n",
    "# fit network\n",
    "history = model.fit(train_X, train_y, epochs=50, batch_size=64,\n",
    "                    validation_data=(test_X, test_y),  verbose=1, shuffle=False)\n",
    "\n"
   ]
  },
  {
   "cell_type": "code",
   "execution_count": 35,
   "id": "b3d77980",
   "metadata": {},
   "outputs": [
    {
     "data": {
      "text/plain": [
       "<matplotlib.legend.Legend at 0x274f9e1c430>"
      ]
     },
     "execution_count": 35,
     "metadata": {},
     "output_type": "execute_result"
    },
    {
     "data": {
      "image/png": "[encoded data removed]",
      "text/plain": [
       "<Figure size 864x432 with 1 Axes>"
      ]
     },
     "metadata": {
      "needs_background": "light"
     },
     "output_type": "display_data"
    }
   ],
   "source": [
    "# plot history\n",
    "plt.figure(figsize=(12,6))\n",
    "plt.plot(history.history['loss'], label='train')\n",
    "plt.plot(history.history['val_loss'], label='test')\n",
    "plt.legend()\n"
   ]
  },
  {
   "cell_type": "code",
   "execution_count": 36,
   "id": "bac130e1",
   "metadata": {},
   "outputs": [
    {
     "data": {
      "image/png": "[encoded data removed]",
      "text/plain": [
       "<IPython.core.display.Image object>"
      ]
     },
     "execution_count": 36,
     "metadata": {},
     "output_type": "execute_result"
    }
   ],
   "source": [
    "\n",
    "plot_model(model, show_shapes=True)"
   ]
  },
  {
   "cell_type": "code",
   "execution_count": 37,
   "id": "c3a352ec",
   "metadata": {},
   "outputs": [
    {
     "name": "stdout",
     "output_type": "stream",
     "text": [
      "Model: \"sequential_2\"\n",
      "_________________________________________________________________\n",
      "Layer (type)                 Output Shape              Param #   \n",
      "=================================================================\n",
      "lstm_2 (LSTM)                (None, 20)                13040     \n",
      "_________________________________________________________________\n",
      "dense_2 (Dense)              (None, 1)                 21        \n",
      "=================================================================\n",
      "Total params: 13,061\n",
      "Trainable params: 13,061\n",
      "Non-trainable params: 0\n",
      "_________________________________________________________________\n"
     ]
    }
   ],
   "source": [
    "model.summary()"
   ]
  },
  {
   "cell_type": "markdown",
   "id": "dcbef018",
   "metadata": {},
   "source": [
    "# 4. Fazendo a validação para o período de 2017 a 2019"
   ]
  },
  {
   "cell_type": "code",
   "execution_count": 38,
   "id": "99842542",
   "metadata": {},
   "outputs": [
    {
     "name": "stdout",
     "output_type": "stream",
     "text": [
      "Test RMSE: 0.116\n"
     ]
    }
   ],
   "source": [
    "# Realizando a predição\n",
    "\n",
    "\n",
    "yhat = model.predict(test_X)\n",
    "test_X_final = test_X.reshape(test_X.shape[0], test_X.shape[2])\n",
    "\n",
    "# invertendo a normalização para apresentar a previsão\n",
    "\n",
    "yhat_reshaped = yhat.reshape(len(yhat),1)\n",
    "inv_yhat = np.concatenate((yhat_reshaped, test_X_final[:, :-1]), axis=1)\n",
    "\n",
    "inv_yhat = inv_yhat[:,0]\n",
    "\n",
    "test_y_final = test_y.reshape((len(test_y), 1))\n",
    "inv_y = np.concatenate((test_y_final, test_X_final[:, 1:]), axis=1)\n",
    "\n",
    "inv_y = inv_y[:,0]\n",
    "\n",
    "\n",
    "# Calculando RMSE\n",
    "rmse = math.sqrt(mean_squared_error(inv_y, inv_yhat))\n",
    "\n",
    "\n",
    "print('Test RMSE: %.3f' % rmse)"
   ]
  },
  {
   "cell_type": "code",
   "execution_count": 39,
   "id": "008e4cae",
   "metadata": {},
   "outputs": [
    {
     "data": {
      "image/png": "[encoded data removed]",
      "text/plain": [
       "<Figure size 1080x432 with 1 Axes>"
      ]
     },
     "metadata": {
      "needs_background": "light"
     },
     "output_type": "display_data"
    }
   ],
   "source": [
    "test_y_inv = scaler_y.inverse_transform(test_y_final)\n",
    "yhat_final_inv = scaler_y.inverse_transform(yhat_reshaped)\n",
    "\n",
    "\n",
    "df_data = pd.date_range('2017-01','2020-01', freq = 'm')\n",
    "\n",
    "# Plota o valor observado vs previsto. \n",
    "\n",
    "plt.figure(figsize=(15,6))\n",
    "plt.plot(test_y_inv, label='Observado')\n",
    "plt.plot(yhat_final_inv, label='Previsto LSTM')\n",
    "plt.legend()\n",
    "plt.title('Validação LSTM 2017 - 2019 - MAPE: %.4f' % calculo_mape(yhat_final_inv, test_y_inv))\n",
    "plt.xticks(np.arange(len(test_y_inv)),df_data.strftime('%m/%Y'), rotation='vertical')\n",
    "plt.grid(True,axis='y')\n",
    "plt.show()\n"
   ]
  },
  {
   "cell_type": "code",
   "execution_count": 40,
   "id": "ba535f00",
   "metadata": {},
   "outputs": [],
   "source": [
    "## Formatação das tabelas\n",
    "\n",
    "pd.set_option('max_columns', None)\n",
    "pd.options.display.float_format = '{:,.2%}'.format"
   ]
  },
  {
   "cell_type": "code",
   "execution_count": 41,
   "id": "e3c7d4c9",
   "metadata": {},
   "outputs": [],
   "source": [
    "variacao_percentual = pd.DataFrame(((yhat_final_inv/test_y_inv)-1) ,columns=['variacao'])"
   ]
  },
  {
   "cell_type": "code",
   "execution_count": 42,
   "id": "d5eb3e4c",
   "metadata": {},
   "outputs": [],
   "source": [
    "set_alerta_negativo = pd.DataFrame()\n",
    "set_normal= pd.DataFrame()\n",
    "set_alerta_positivo = pd.DataFrame()"
   ]
  },
  {
   "cell_type": "code",
   "execution_count": 43,
   "id": "4a39d9c8",
   "metadata": {},
   "outputs": [],
   "source": [
    "for i in range (len(variacao_percentual)):\n",
    "    if variacao_percentual.iloc[i].values[0] > 0.05:\n",
    "        set_alerta_negativo = set_alerta_negativo.append(variacao_percentual[i:i+1])\n",
    "    elif variacao_percentual.iloc[i].values[0] < -0.05:\n",
    "        set_alerta_positivo = set_alerta_positivo.append(variacao_percentual[i:i+1])\n",
    "    else:\n",
    "        set_normal = set_normal.append(variacao_percentual[i:i+1])\n",
    "        "
   ]
  },
  {
   "cell_type": "code",
   "execution_count": 44,
   "id": "58683771",
   "metadata": {},
   "outputs": [
    {
     "data": {
      "text/plain": [
       "<matplotlib.legend.Legend at 0x274f71a20a0>"
      ]
     },
     "execution_count": 44,
     "metadata": {},
     "output_type": "execute_result"
    },
    {
     "data": {
      "image/png": "[encoded data removed]",
      "text/plain": [
       "<Figure size 1080x432 with 1 Axes>"
      ]
     },
     "metadata": {
      "needs_background": "light"
     },
     "output_type": "display_data"
    }
   ],
   "source": [
    "df_data = pd.date_range('2017-01','2020-01', freq = 'm')\n",
    "\n",
    "#Plota o resultado do modelo\n",
    "fig, ax = plt.subplots(figsize=(15,6))\n",
    "ax.set_ylabel('Variação %')\n",
    "\n",
    "plt.plot(variacao_percentual * 100, 'o', color='white')\n",
    "\n",
    "if len(set_alerta_negativo) > 0:\n",
    "    plt.plot(set_alerta_negativo * 100, 'o', color='red',  label='Arrecadaçao < Previsão Crítico')\n",
    "\n",
    "if len(set_normal) > 0:\n",
    "    plt.plot(set_normal * 100, 'o', color='green',  label='Períodos Normais')\n",
    "\n",
    "if len(set_alerta_positivo) > 0:\n",
    "    plt.plot(set_alerta_positivo * 100, 'o', color='blue',  label='Arrecadação > Previsão Crítico')\n",
    "\n",
    "plt.title('Variação entre valores previstos e observados - LSTM' )\n",
    "plt.grid(True,axis='y')\n",
    "ax.set_xticks(range(len(df_data)))\n",
    "plt.xticks(ax.get_xticks(), df_data.strftime('%m/%Y'), rotation='vertical')\n",
    "plt.legend(loc='upper right')"
   ]
  },
  {
   "cell_type": "markdown",
   "id": "432c8cb7",
   "metadata": {},
   "source": [
    "# 5. Predição para 2020"
   ]
  },
  {
   "cell_type": "code",
   "execution_count": 45,
   "id": "22f67656",
   "metadata": {},
   "outputs": [
    {
     "name": "stdout",
     "output_type": "stream",
     "text": [
      "Test RMSE: 0.290\n"
     ]
    }
   ],
   "source": [
    "# Realizando a predição\n",
    "\n",
    "\n",
    "yhat = model.predict(predict_X)\n",
    "predict_X_final = predict_X.reshape(predict_X.shape[0], predict_X.shape[2])\n",
    "\n",
    "# Invertendo a escala para apresentar a previsão\n",
    "\n",
    "yhat_reshaped = yhat.reshape(len(yhat),1)\n",
    "inv_yhat = np.concatenate((yhat_reshaped, predict_X_final[:, :-1]), axis=1)\n",
    "\n",
    "inv_yhat = inv_yhat[:,0]\n",
    "predict_y_final = predict_y.reshape((len(predict_y), 1))\n",
    "inv_y = np.concatenate((predict_y_final, predict_X_final[:, 1:]), axis=1)\n",
    "\n",
    "inv_y = inv_y[:,0]\n",
    "\n",
    "# Calculando o RMSE e o MAPE\n",
    "rmse = math.sqrt(mean_squared_error(inv_y, inv_yhat))\n",
    "\n",
    "# mape = calculo_mape(inv_yhat, inv_y)\n",
    "print('Test RMSE: %.3f' % rmse)"
   ]
  },
  {
   "cell_type": "code",
   "execution_count": 46,
   "id": "db1c9be4",
   "metadata": {},
   "outputs": [
    {
     "data": {
      "image/png": "[encoded data removed]",
      "text/plain": [
       "<Figure size 1080x432 with 1 Axes>"
      ]
     },
     "metadata": {
      "needs_background": "light"
     },
     "output_type": "display_data"
    }
   ],
   "source": [
    "predict_y_inv = scaler_predict_y.inverse_transform(predict_y_final)\n",
    "yhat_final_inv = scaler_predict_y.inverse_transform(yhat_reshaped)\n",
    "\n",
    "\n",
    "df_data = pd.date_range('2020-01','2021-01', freq = 'm')\n",
    "\n",
    "# Plota o valor observado vs previsto. \n",
    "\n",
    "plt.figure(figsize=(15,6))\n",
    "plt.plot(predict_y_inv, label='Observado')\n",
    "plt.plot(yhat_final_inv, label='Previsto LSTM')\n",
    "plt.legend()\n",
    "plt.title('Previsão LSTM 2020 - MAPE: %.4f' % calculo_mape(yhat_final_inv[0], predict_y_inv))\n",
    "plt.xticks(np.arange(len(predict_y_inv)),df_data.strftime('%m/%Y'), rotation='vertical')\n",
    "plt.grid(True,axis='y')\n",
    "plt.show()"
   ]
  },
  {
   "cell_type": "code",
   "execution_count": 47,
   "id": "8b6d1949",
   "metadata": {},
   "outputs": [],
   "source": [
    "## Formatação das tabelas\n",
    "\n",
    "pd.set_option('max_columns', None)\n",
    "pd.options.display.float_format = '{:,.2%}'.format"
   ]
  },
  {
   "cell_type": "code",
   "execution_count": 48,
   "id": "0614340a",
   "metadata": {},
   "outputs": [],
   "source": [
    "variacao_percentual = pd.DataFrame(((yhat_final_inv/predict_y_inv)-1) ,columns=['variacao'])"
   ]
  },
  {
   "cell_type": "code",
   "execution_count": 49,
   "id": "f20e9998",
   "metadata": {},
   "outputs": [],
   "source": [
    "set_alerta_negativo = pd.DataFrame()\n",
    "set_normal= pd.DataFrame()\n",
    "set_alerta_positivo = pd.DataFrame()"
   ]
  },
  {
   "cell_type": "code",
   "execution_count": 50,
   "id": "6aebdcf3",
   "metadata": {},
   "outputs": [],
   "source": [
    "for i in range (len(variacao_percentual)):\n",
    "    if variacao_percentual.iloc[i].values[0] > 0.05:\n",
    "        set_alerta_negativo = set_alerta_negativo.append(variacao_percentual[i:i+1])\n",
    "    elif variacao_percentual.iloc[i].values[0] < -0.05:\n",
    "        set_alerta_positivo = set_alerta_positivo.append(variacao_percentual[i:i+1])\n",
    "    else:\n",
    "        set_normal = set_normal.append(variacao_percentual[i:i+1])\n",
    "        "
   ]
  },
  {
   "cell_type": "code",
   "execution_count": 51,
   "id": "3c803d86",
   "metadata": {},
   "outputs": [
    {
     "data": {
      "text/plain": [
       "<matplotlib.legend.Legend at 0x274f2745f40>"
      ]
     },
     "execution_count": 51,
     "metadata": {},
     "output_type": "execute_result"
    },
    {
     "data": {
      "image/png": "[encoded data removed]",
      "text/plain": [
       "<Figure size 1080x432 with 1 Axes>"
      ]
     },
     "metadata": {
      "needs_background": "light"
     },
     "output_type": "display_data"
    }
   ],
   "source": [
    "df_data = pd.date_range('2020-01','2021-01', freq = 'm')\n",
    "\n",
    "#Plota o resultado do modelo\n",
    "fig, ax = plt.subplots(figsize=(15,6))\n",
    "ax.set_ylabel('Variação %')\n",
    "\n",
    "plt.plot(variacao_percentual * 100, 'o', color='white')\n",
    "\n",
    "if len(set_alerta_negativo) > 0:\n",
    "    plt.plot(set_alerta_negativo * 100, 'o', color='red',  label='Arrecadaçao < Previsão Crítico')\n",
    "\n",
    "if len(set_normal) > 0:\n",
    "    plt.plot(set_normal * 100, 'o', color='green',  label='Períodos Normais')\n",
    "\n",
    "if len(set_alerta_positivo) > 0:\n",
    "    plt.plot(set_alerta_positivo * 100, 'o', color='blue',  label='Arrecadação > Previsão Crítico')\n",
    "\n",
    "plt.title('Variação entre valores previstos e observados - LSTM' )\n",
    "plt.grid(True,axis='y')\n",
    "ax.set_xticks(range(0,12))\n",
    "plt.xticks(ax.get_xticks(), df_data.strftime('%m/%Y'), rotation='vertical')\n",
    "plt.legend(loc='upper left')"
   ]
  },
  {
   "cell_type": "code",
   "execution_count": null,
   "id": "b1df710f",
   "metadata": {},
   "outputs": [],
   "source": []
  }
 ],
 "metadata": {
  "kernelspec": {
   "display_name": "Python 3",
   "language": "python",
   "name": "python3"
  },
  "language_info": {
   "codemirror_mode": {
    "name": "ipython",
    "version": 3
   },
   "file_extension": ".py",
   "mimetype": "text/x-python",
   "name": "python",
   "nbconvert_exporter": "python",
   "pygments_lexer": "ipython3",
   "version": "3.8.10"
  }
 },
 "nbformat": 4,
 "nbformat_minor": 5
}
